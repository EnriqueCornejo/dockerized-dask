{
 "cells": [
  {
   "cell_type": "code",
   "execution_count": 2,
   "metadata": {
    "autoscroll": false,
    "collapsed": true,
    "ein.tags": "worksheet-0",
    "scrolled": true,
    "slideshow": {
     "slide_type": "-"
    }
   },
   "outputs": [],
   "source": [
    "from dask.dot import dot_graph\n",
    "import itertools\n",
    "import logging\n",
    "import netCDF4\n",
    "import numpy\n",
    "import dask.array as da\n",
    "from dask import delayed\n",
    "import time\n",
    "from dask.distributed import Client\n",
    "from urllib import request\n",
    "\n",
    "\n",
    "client = Client('scheduler:8786')\n",
    "# client = Client(processes=False)\n",
    "client.ncores()\n",
    "\n",
    "download_location = '/temp'\n",
    "data_url = 'http://172.21.0.1:8080'\n",
    "max_download_attempts = 5\n",
    "\n",
    "all_models = ['ACCESS1-0', 'BNU-ESM', 'CCSM4', 'CESM1-BGC', 'CNRM-CM5', 'CSIRO-Mk3-6-0', 'CanESM2', 'GFDL-CM3', 'GFDL-ESM2G', 'GFDL-ESM2M', 'IPSL-CM5A-LR', 'IPSL-CM5A-MR', 'MIROC-ESM-CHEM', 'MIROC-ESM', 'MIROC5', 'MPI-ESM-LR', 'MPI-ESM-MR', 'MRI-CGCM3', 'NorESM1-M', 'bcc-csm1-1', 'inmcm4']\n",
    "all_models = ['ACCESS1-0'] \n",
    "all_vars = ['tasmax', 'pr']\n",
    "all_years = {\n",
    "     'historical': list(range(1971, 1973))\n",
    "}\n",
    "\n",
    "def get_dataset_url(variable, scenario, model, year, prefix = data_url):\n",
    "    prefix_filename = '/'.join([prefix, 'NEX-GDDP', 'BCSD', scenario, 'day', 'atmos', variable, 'r1i1p1', 'v1.0'])\n",
    "    prefix_filename = data_url + '/data'\n",
    "    filename = '_'.join([variable, 'day', 'BCSD', scenario, 'r1i1p1', model, str(year) + '.nc'])\n",
    "    url = '/'.join([prefix_filename, filename])\n",
    "    return url\n",
    "\n",
    "def get_context(year, **kwargs):\n",
    "    variables = [kwargs.get('variable')] if kwargs.get('variable') else all_vars\n",
    "    scenarios = ['historical']\n",
    "    models = [kwargs.get('model')] if kwargs.get('model') else all_models\n",
    "    outlist = []\n",
    "    combinations = list(itertools.product(variables, scenarios, models))\n",
    "    result = list(map(lambda comb: [ *comb, year ], combinations))\n",
    "    return result\n",
    "\n",
    "def get_year_ensemble(year, variable = 'tasmax'):\n",
    "    context = get_context(year, variable = variable)\n",
    "    datasets = list(map(lambda x: str(get_dataset_url(*x)), context))\n",
    "    return datasets\n",
    "\n",
    "def to_dataset(filename):\n",
    "    return netCDF4.Dataset(filename)\n",
    "\n",
    "def download_file(url):\n",
    "    print(\"url: \" + url)\n",
    "    attempts = 0\n",
    "    success = False\n",
    "    filename = \"\"\n",
    "    while attempts < max_download_attempts and not success:\n",
    "        time.sleep(2 ** attempts)\n",
    "        filename = '/'.join([download_location, str(url.split('/')[-1])])\n",
    "        print(\"Downloading file at \" + filename)\n",
    "        u = request.urlopen(url)\n",
    "        f = open(filename, 'wb')\n",
    "        f.write(u.read())\n",
    "        f.close()\n",
    "        success = True\n",
    "        break\n",
    "    return filename"
   ]
  },
  {
   "cell_type": "code",
   "execution_count": 3,
   "metadata": {
    "autoscroll": false,
    "ein.tags": "worksheet-0",
    "slideshow": {
     "slide_type": "-"
    }
   },
   "outputs": [
    {
     "data": {
      "text/plain": [
       "{'tcp://172.21.0.2:35843': 4}"
      ]
     },
     "execution_count": 3,
     "metadata": {},
     "output_type": "execute_result"
    }
   ],
   "source": [
    "client.ncores()"
   ]
  },
  {
   "cell_type": "code",
   "execution_count": 4,
   "metadata": {
    "autoscroll": false,
    "collapsed": true,
    "ein.tags": "worksheet-0",
    "slideshow": {
     "slide_type": "-"
    }
   },
   "outputs": [],
   "source": [
    "datasets_tasmax = list(map(get_year_ensemble, all_years['historical']))\n",
    "datasets_pr = list(map(lambda x : get_year_ensemble(x, variable = 'pr'), all_years['historical']))"
   ]
  },
  {
   "cell_type": "code",
   "execution_count": 5,
   "metadata": {
    "autoscroll": false,
    "ein.tags": "worksheet-0",
    "scrolled": true,
    "slideshow": {
     "slide_type": "-"
    }
   },
   "outputs": [
    {
     "name": "stdout",
     "output_type": "stream",
     "text": [
      "Processing year\n",
      "url: http://172.21.0.1:8080/data/tasmax_day_BCSD_historical_r1i1p1_ACCESS1-0_1971.nc\n",
      "Downloading file at /temp/tasmax_day_BCSD_historical_r1i1p1_ACCESS1-0_1971.nc\n",
      "Processing year\n",
      "url: http://172.21.0.1:8080/data/tasmax_day_BCSD_historical_r1i1p1_ACCESS1-0_1972.nc\n",
      "Downloading file at /temp/tasmax_day_BCSD_historical_r1i1p1_ACCESS1-0_1972.nc\n"
     ]
    }
   ],
   "source": [
    "dsets = []\n",
    "da_dsets = []\n",
    "for row in datasets_tasmax:\n",
    "    print(\"Processing year\")\n",
    "    fnames = list(map(download_file, row))\n",
    "    datasets_year = list(map(lambda dset: netCDF4.Dataset(dset), fnames))\n",
    "    dsets.append(datasets_year)\n",
    "    \n",
    "    dask_dsets_year = map(lambda dset: da.from_array(dset['tasmax'], chunks=(366, 120, 120)), datasets_year)\n",
    "    da_dsets.append(list(dask_dsets_year))\n"
   ]
  },
  {
   "cell_type": "code",
   "execution_count": 6,
   "metadata": {
    "autoscroll": false,
    "ein.tags": "worksheet-0",
    "slideshow": {
     "slide_type": "-"
    }
   },
   "outputs": [
    {
     "data": {
      "text/plain": [
       "[dask.array<array, shape=(365, 720, 1440), dtype=float32, chunksize=(365, 120, 120)>,\n",
       " dask.array<array, shape=(366, 720, 1440), dtype=float32, chunksize=(366, 120, 120)>]"
      ]
     },
     "execution_count": 6,
     "metadata": {},
     "output_type": "execute_result"
    }
   ],
   "source": [
    "da_dsets = [row[0] for row in da_dsets]\n",
    "da_dsets"
   ]
  },
  {
   "cell_type": "code",
   "execution_count": 27,
   "metadata": {
    "autoscroll": false,
    "ein.tags": "worksheet-0",
    "slideshow": {
     "slide_type": "-"
    }
   },
   "outputs": [
    {
     "data": {
      "text/plain": [
       "dask.array<rechunk-merge, shape=(731, 720, 1440), dtype=float32, chunksize=(731, 120, 120)>"
      ]
     },
     "execution_count": 27,
     "metadata": {},
     "output_type": "execute_result"
    }
   ],
   "source": [
    "# To concatenate dask arrays\n",
    "stack = da.concatenate(da_dsets, axis = 0)\n",
    "stack_rechunked = stack.rechunk((731, 120, 120))\n",
    "\n",
    "stack_rechunked"
   ]
  },
  {
   "cell_type": "code",
   "execution_count": 28,
   "metadata": {
    "autoscroll": false,
    "ein.tags": "worksheet-0",
    "slideshow": {
     "slide_type": "-"
    }
   },
   "outputs": [
    {
     "data": {
      "text/plain": [
       "array([[  9.80100000e+01,   1.98010000e+02,   2.98010000e+02, ...,\n",
       "          9.79801000e+03,   9.89801000e+03,   9.99801000e+03],\n",
       "       [  1.00980100e+04,   1.01980100e+04,   1.02980100e+04, ...,\n",
       "          1.97980100e+04,   1.98980100e+04,   1.99980100e+04],\n",
       "       [  2.00980100e+04,   2.01980100e+04,   2.02980100e+04, ...,\n",
       "          2.97980100e+04,   2.98980100e+04,   2.99980100e+04],\n",
       "       ..., \n",
       "       [  9.70098010e+05,   9.70198010e+05,   9.70298010e+05, ...,\n",
       "          9.79798010e+05,   9.79898010e+05,   9.79998010e+05],\n",
       "       [  9.80098010e+05,   9.80198010e+05,   9.80298010e+05, ...,\n",
       "          9.89798010e+05,   9.89898010e+05,   9.89998010e+05],\n",
       "       [  9.90098010e+05,   9.90198010e+05,   9.90298010e+05, ...,\n",
       "          9.99798010e+05,   9.99898010e+05,   9.99998010e+05]])"
      ]
     },
     "execution_count": 28,
     "metadata": {},
     "output_type": "execute_result"
    }
   ],
   "source": [
    "@delayed\n",
    "def custom_percentile(a, q = 99, **kwargs):\n",
    "    return numpy.percentile(a, q, **kwargs)\n",
    "\n",
    "@delayed\n",
    "def custom_average(a, **kwargs):\n",
    "    return numpy.mean(a, **kwargs)\n",
    "\n",
    "# custom_percentile(da.from_array(numpy.arange(1000000).reshape(100, 100, 100), chunks=(10))).compute()\n",
    "custom_percentile(da.from_array(numpy.arange(1000000).reshape(100, 100, 100), chunks=(10)), axis=2).compute()"
   ]
  },
  {
   "cell_type": "code",
   "execution_count": 29,
   "metadata": {
    "autoscroll": false,
    "ein.tags": "worksheet-0",
    "slideshow": {
     "slide_type": "-"
    }
   },
   "outputs": [
    {
     "data": {
      "text/plain": [
       "Delayed('custom_percentile-3ce2568c-9122-487f-a08b-22612f4474a4')"
      ]
     },
     "execution_count": 29,
     "metadata": {},
     "output_type": "execute_result"
    }
   ],
   "source": [
    "op = custom_percentile(stack_rechunked, axis = 0)\n",
    "op"
   ]
  },
  {
   "cell_type": "code",
   "execution_count": null,
   "metadata": {
    "autoscroll": false,
    "ein.tags": "worksheet-0",
    "slideshow": {
     "slide_type": "-"
    }
   },
   "outputs": [],
   "source": [
    "res = op.compute()\n",
    "res"
   ]
  },
  {
   "cell_type": "code",
   "execution_count": 2,
   "metadata": {},
   "outputs": [
    {
     "data": {
      "text/plain": [
       "{'client': {'host': [('python', '3.5.4.final.0'),\n",
       "   ('python-bits', 64),\n",
       "   ('OS', 'Linux'),\n",
       "   ('OS-release', '4.13.11-1-ARCH'),\n",
       "   ('machine', 'x86_64'),\n",
       "   ('processor', 'x86_64'),\n",
       "   ('byteorder', 'little'),\n",
       "   ('LC_ALL', 'en_US.UTF-8'),\n",
       "   ('LANG', 'en_US.UTF-8'),\n",
       "   ('LOCALE', 'en_US.UTF-8')],\n",
       "  'packages': {'optional': [('numpy', '1.13.3'),\n",
       "    ('pandas', '0.21.0'),\n",
       "    ('bokeh', '0.12.10'),\n",
       "    ('lz4', None),\n",
       "    ('blosc', None)],\n",
       "   'required': [('dask', '0.15.4'),\n",
       "    ('distributed', '1.19.3'),\n",
       "    ('msgpack', '0.4.8'),\n",
       "    ('cloudpickle', '0.4.0'),\n",
       "    ('tornado', '4.5.2'),\n",
       "    ('toolz', '0.8.2')]}},\n",
       " 'scheduler': {'host': [['python', '3.6.3.final.0'],\n",
       "   ['python-bits', 64],\n",
       "   ['OS', 'Linux'],\n",
       "   ['OS-release', '4.13.11-1-ARCH'],\n",
       "   ['machine', 'x86_64'],\n",
       "   ['processor', ''],\n",
       "   ['byteorder', 'little'],\n",
       "   ['LC_ALL', 'C.UTF-8'],\n",
       "   ['LANG', 'C.UTF-8'],\n",
       "   ['LOCALE', 'en_US.UTF-8']],\n",
       "  'packages': {'optional': [['numpy', '1.13.3'],\n",
       "    ['pandas', '0.21.0'],\n",
       "    ['bokeh', '0.12.10'],\n",
       "    ['lz4', None],\n",
       "    ['blosc', None]],\n",
       "   'required': [['dask', '0.15.4'],\n",
       "    ['distributed', '1.19.3'],\n",
       "    ['msgpack', '0.4.8'],\n",
       "    ['cloudpickle', '0.4.0'],\n",
       "    ['tornado', '4.5.2'],\n",
       "    ['toolz', '0.8.2']]}},\n",
       " 'workers': {'tcp://172.21.0.3:43183': {'host': [('python', '3.6.3.final.0'),\n",
       "    ('python-bits', 64),\n",
       "    ('OS', 'Linux'),\n",
       "    ('OS-release', '4.13.11-1-ARCH'),\n",
       "    ('machine', 'x86_64'),\n",
       "    ('processor', ''),\n",
       "    ('byteorder', 'little'),\n",
       "    ('LC_ALL', 'C.UTF-8'),\n",
       "    ('LANG', 'C.UTF-8'),\n",
       "    ('LOCALE', 'en_US.UTF-8')],\n",
       "   'packages': {'optional': [('numpy', '1.13.3'),\n",
       "     ('pandas', '0.21.0'),\n",
       "     ('bokeh', '0.12.10'),\n",
       "     ('lz4', None),\n",
       "     ('blosc', None)],\n",
       "    'required': [('dask', '0.15.4'),\n",
       "     ('distributed', '1.19.3'),\n",
       "     ('msgpack', '0.4.8'),\n",
       "     ('cloudpickle', '0.4.0'),\n",
       "     ('tornado', '4.5.2'),\n",
       "     ('toolz', '0.8.2')]}}}}"
      ]
     },
     "execution_count": 2,
     "metadata": {},
     "output_type": "execute_result"
    }
   ],
   "source": [
    "client.get_versions(check=True) "
   ]
  },
  {
   "cell_type": "code",
   "execution_count": null,
   "metadata": {
    "collapsed": true
   },
   "outputs": [],
   "source": []
  }
 ],
 "metadata": {
  "kernelspec": {
   "display_name": "Python 3",
   "language": "python",
   "name": "python3"
  },
  "language_info": {
   "codemirror_mode": {
    "name": "ipython",
    "version": 3
   },
   "file_extension": ".py",
   "mimetype": "text/x-python",
   "name": "python",
   "nbconvert_exporter": "python",
   "pygments_lexer": "ipython3",
   "version": "3.6.3"
  },
  "name": "dask.ipynb"
 },
 "nbformat": 4,
 "nbformat_minor": 2
}
