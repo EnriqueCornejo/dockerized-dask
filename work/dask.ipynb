{
 "cells": [
  {
   "cell_type": "code",
   "execution_count": 1,
   "metadata": {
    "autoscroll": false,
    "collapsed": true,
    "ein.tags": "worksheet-0",
    "scrolled": true,
    "slideshow": {
     "slide_type": "-"
    }
   },
   "outputs": [],
   "source": [
    "%matplotlib inline\n",
    "\n",
    "import matplotlib.pyplot as plt\n",
    "from dask.dot import dot_graph\n",
    "import itertools\n",
    "import logging\n",
    "import netCDF4\n",
    "import numpy\n",
    "import dask.array as da\n",
    "from dask import delayed\n",
    "import time\n",
    "from dask.distributed import Client\n",
    "from urllib import request\n",
    "\n",
    "\n",
    "client = Client('scheduler:8786')\n",
    "# client = Client(processes=False)\n",
    "client.ncores()\n",
    "\n",
    "download_location = '/temp'\n",
    "data_url = 'http://172.22.0.1:8910'\n",
    "max_download_attempts = 5\n",
    "\n",
    "all_models = ['ACCESS1-0', 'BNU-ESM', 'CCSM4', 'CESM1-BGC', 'CNRM-CM5', 'CSIRO-Mk3-6-0', 'CanESM2', 'GFDL-CM3', 'GFDL-ESM2G', 'GFDL-ESM2M', 'IPSL-CM5A-LR', 'IPSL-CM5A-MR', 'MIROC-ESM-CHEM', 'MIROC-ESM', 'MIROC5', 'MPI-ESM-LR', 'MPI-ESM-MR', 'MRI-CGCM3', 'NorESM1-M', 'bcc-csm1-1', 'inmcm4']\n",
    "all_models = ['ACCESS1-0'] \n",
    "all_vars = ['tasmax', 'pr']\n",
    "all_years = {\n",
    "     'historical': list(range(1971, 1976))\n",
    "}\n",
    "\n",
    "def get_dataset_url(variable, scenario, model, year, prefix = data_url):\n",
    "    prefix_filename = '/'.join([prefix, 'NEX-GDDP', 'BCSD', scenario, 'day', 'atmos', variable, 'r1i1p1', 'v1.0'])\n",
    "    # prefix_filename = data_url + '/data'\n",
    "    filename = '_'.join([variable, 'day', 'BCSD', scenario, 'r1i1p1', model, str(year) + '.nc'])\n",
    "    url = '/'.join([prefix_filename, filename])\n",
    "    return url\n",
    "\n",
    "def get_context(year, **kwargs):\n",
    "    variables = [kwargs.get('variable')] if kwargs.get('variable') else all_vars\n",
    "    scenarios = ['historical']\n",
    "    models = [kwargs.get('model')] if kwargs.get('model') else all_models\n",
    "    outlist = []\n",
    "    combinations = list(itertools.product(variables, scenarios, models))\n",
    "    result = list(map(lambda comb: [ *comb, year ], combinations))\n",
    "    return result\n",
    "\n",
    "def get_year_ensemble(year, variable = 'tasmax'):\n",
    "    context = get_context(year, variable = variable)\n",
    "    datasets = list(map(lambda x: str(get_dataset_url(*x)), context))\n",
    "    return datasets\n",
    "\n",
    "def to_dataset(filename):\n",
    "    return netCDF4.Dataset(filename)\n",
    "\n",
    "def download_file(url):\n",
    "    print(\"url: \" + url)\n",
    "    attempts = 0\n",
    "    success = False\n",
    "    filename = \"\"\n",
    "    while attempts < max_download_attempts and not success:\n",
    "        time.sleep(2 ** attempts)\n",
    "        filename = '/'.join([download_location, str(url.split('/')[-1])])\n",
    "        print(\"Downloading file at \" + filename)\n",
    "        u = request.urlopen(url)\n",
    "        f = open(filename, 'wb')\n",
    "        f.write(u.read())\n",
    "        f.close()\n",
    "        success = True\n",
    "        break\n",
    "    return filename"
   ]
  },
  {
   "cell_type": "code",
   "execution_count": 2,
   "metadata": {
    "autoscroll": false,
    "ein.tags": "worksheet-0",
    "slideshow": {
     "slide_type": "-"
    }
   },
   "outputs": [
    {
     "data": {
      "text/plain": [
       "{'tcp://172.22.0.4:41545': 8}"
      ]
     },
     "execution_count": 2,
     "metadata": {},
     "output_type": "execute_result"
    }
   ],
   "source": [
    "client.ncores()"
   ]
  },
  {
   "cell_type": "code",
   "execution_count": 3,
   "metadata": {
    "autoscroll": false,
    "ein.tags": "worksheet-0",
    "slideshow": {
     "slide_type": "-"
    }
   },
   "outputs": [
    {
     "data": {
      "text/plain": [
       "[['http://172.22.0.1:8910/NEX-GDDP/BCSD/historical/day/atmos/tasmax/r1i1p1/v1.0/tasmax_day_BCSD_historical_r1i1p1_ACCESS1-0_1971.nc'],\n",
       " ['http://172.22.0.1:8910/NEX-GDDP/BCSD/historical/day/atmos/tasmax/r1i1p1/v1.0/tasmax_day_BCSD_historical_r1i1p1_ACCESS1-0_1972.nc'],\n",
       " ['http://172.22.0.1:8910/NEX-GDDP/BCSD/historical/day/atmos/tasmax/r1i1p1/v1.0/tasmax_day_BCSD_historical_r1i1p1_ACCESS1-0_1973.nc'],\n",
       " ['http://172.22.0.1:8910/NEX-GDDP/BCSD/historical/day/atmos/tasmax/r1i1p1/v1.0/tasmax_day_BCSD_historical_r1i1p1_ACCESS1-0_1974.nc'],\n",
       " ['http://172.22.0.1:8910/NEX-GDDP/BCSD/historical/day/atmos/tasmax/r1i1p1/v1.0/tasmax_day_BCSD_historical_r1i1p1_ACCESS1-0_1975.nc']]"
      ]
     },
     "execution_count": 3,
     "metadata": {},
     "output_type": "execute_result"
    }
   ],
   "source": [
    "datasets_tasmax = list(map(get_year_ensemble, all_years['historical']))\n",
    "datasets_pr = list(map(lambda x : get_year_ensemble(x, variable = 'pr'), all_years['historical']))\n",
    "datasets_tasmax"
   ]
  },
  {
   "cell_type": "code",
   "execution_count": 4,
   "metadata": {
    "autoscroll": false,
    "ein.tags": "worksheet-0",
    "scrolled": false,
    "slideshow": {
     "slide_type": "-"
    }
   },
   "outputs": [
    {
     "name": "stdout",
     "output_type": "stream",
     "text": [
      "Processing year\n",
      "url: http://172.22.0.1:8910/NEX-GDDP/BCSD/historical/day/atmos/tasmax/r1i1p1/v1.0/tasmax_day_BCSD_historical_r1i1p1_ACCESS1-0_1971.nc\n",
      "Downloading file at /temp/tasmax_day_BCSD_historical_r1i1p1_ACCESS1-0_1971.nc\n",
      "Processing year\n",
      "url: http://172.22.0.1:8910/NEX-GDDP/BCSD/historical/day/atmos/tasmax/r1i1p1/v1.0/tasmax_day_BCSD_historical_r1i1p1_ACCESS1-0_1972.nc\n",
      "Downloading file at /temp/tasmax_day_BCSD_historical_r1i1p1_ACCESS1-0_1972.nc\n",
      "Processing year\n",
      "url: http://172.22.0.1:8910/NEX-GDDP/BCSD/historical/day/atmos/tasmax/r1i1p1/v1.0/tasmax_day_BCSD_historical_r1i1p1_ACCESS1-0_1973.nc\n",
      "Downloading file at /temp/tasmax_day_BCSD_historical_r1i1p1_ACCESS1-0_1973.nc\n",
      "Processing year\n",
      "url: http://172.22.0.1:8910/NEX-GDDP/BCSD/historical/day/atmos/tasmax/r1i1p1/v1.0/tasmax_day_BCSD_historical_r1i1p1_ACCESS1-0_1974.nc\n",
      "Downloading file at /temp/tasmax_day_BCSD_historical_r1i1p1_ACCESS1-0_1974.nc\n",
      "Processing year\n",
      "url: http://172.22.0.1:8910/NEX-GDDP/BCSD/historical/day/atmos/tasmax/r1i1p1/v1.0/tasmax_day_BCSD_historical_r1i1p1_ACCESS1-0_1975.nc\n",
      "Downloading file at /temp/tasmax_day_BCSD_historical_r1i1p1_ACCESS1-0_1975.nc\n"
     ]
    },
    {
     "data": {
      "text/plain": [
       "[[dask.array<array, shape=(365, 720, 1440), dtype=float32, chunksize=(365, 120, 120)>],\n",
       " [dask.array<array, shape=(366, 720, 1440), dtype=float32, chunksize=(366, 120, 120)>],\n",
       " [dask.array<array, shape=(365, 720, 1440), dtype=float32, chunksize=(365, 120, 120)>],\n",
       " [dask.array<array, shape=(365, 720, 1440), dtype=float32, chunksize=(365, 120, 120)>],\n",
       " [dask.array<array, shape=(365, 720, 1440), dtype=float32, chunksize=(365, 120, 120)>]]"
      ]
     },
     "execution_count": 4,
     "metadata": {},
     "output_type": "execute_result"
    }
   ],
   "source": [
    "dsets = []\n",
    "da_dsets = []\n",
    "for row in datasets_tasmax:\n",
    "    print(\"Processing year\")\n",
    "    fnames = list(map(download_file, row))\n",
    "    datasets_year = list(map(lambda dset: netCDF4.Dataset(dset), fnames))\n",
    "    dsets.append(datasets_year)\n",
    "    \n",
    "    dask_dsets_year = map(lambda dset: da.from_array(dset['tasmax'], chunks=(366, 120, 120)), datasets_year)\n",
    "    da_dsets.append(list(dask_dsets_year))\n",
    "\n",
    "da_dsets"
   ]
  },
  {
   "cell_type": "code",
   "execution_count": 5,
   "metadata": {
    "autoscroll": false,
    "ein.tags": "worksheet-0",
    "slideshow": {
     "slide_type": "-"
    }
   },
   "outputs": [
    {
     "data": {
      "text/plain": [
       "dask.array<array, shape=(365, 720, 1440), dtype=float32, chunksize=(365, 120, 120)>"
      ]
     },
     "execution_count": 5,
     "metadata": {},
     "output_type": "execute_result"
    }
   ],
   "source": [
    "da_dsets = [row[0] for row in da_dsets]\n",
    "da_dsets[0]"
   ]
  },
  {
   "cell_type": "code",
   "execution_count": 6,
   "metadata": {
    "autoscroll": false,
    "ein.tags": "worksheet-0",
    "slideshow": {
     "slide_type": "-"
    }
   },
   "outputs": [
    {
     "data": {
      "text/plain": [
       "[dask.array<array, shape=(365, 720, 1440), dtype=float32, chunksize=(365, 120, 120)>,\n",
       " dask.array<array, shape=(365, 720, 1440), dtype=float32, chunksize=(365, 120, 120)>,\n",
       " dask.array<array, shape=(365, 720, 1440), dtype=float32, chunksize=(365, 120, 120)>,\n",
       " dask.array<array, shape=(365, 720, 1440), dtype=float32, chunksize=(365, 120, 120)>]"
      ]
     },
     "execution_count": 6,
     "metadata": {},
     "output_type": "execute_result"
    }
   ],
   "source": [
    "same_length_dsets = list(filter(lambda dset: dset.chunks[0][0] == 365, da_dsets))\n",
    "same_length_dsets"
   ]
  },
  {
   "cell_type": "code",
   "execution_count": 7,
   "metadata": {
    "autoscroll": false,
    "ein.tags": "worksheet-0",
    "scrolled": false,
    "slideshow": {
     "slide_type": "-"
    }
   },
   "outputs": [
    {
     "data": {
      "text/plain": [
       "Delayed('custom_average-32549568-e72e-4393-8157-0cd10e35376a')"
      ]
     },
     "execution_count": 7,
     "metadata": {},
     "output_type": "execute_result"
    }
   ],
   "source": [
    "# To stack the datasets along a new axis:\n",
    "avg_stack = da.stack(same_length_dsets, axis = 0)\n",
    "\n",
    "@delayed\n",
    "def custom_average(a, **kwargs):\n",
    "    return numpy.mean(a, **kwargs)\n",
    "\n",
    "model_averages = custom_average(avg_stack, axis = 0)\n",
    "model_averages"
   ]
  },
  {
   "cell_type": "code",
   "execution_count": 8,
   "metadata": {},
   "outputs": [
    {
     "data": {
      "text/plain": [
       "array([[[ 273.55682373,  273.58920288,  273.59063721, ...,  273.59851074,\n",
       "          273.56674194,  273.54931641],\n",
       "        [ 273.79293823,  273.82687378,  273.84289551, ...,  273.77865601,\n",
       "          273.77618408,  273.7746582 ],\n",
       "        [ 273.99713135,  274.03924561,  274.05969238, ...,  273.9553833 ,\n",
       "          273.95996094,  273.97366333],\n",
       "        ..., \n",
       "        [ 236.60502625,  236.74078369,  236.84527588, ...,  236.4808197 ,\n",
       "          236.48919678,  236.52020264],\n",
       "        [ 236.52481079,  236.66943359,  236.77598572, ...,  236.43704224,\n",
       "          236.44009399,  236.46292114],\n",
       "        [ 236.47286987,  236.58821106,  236.65655518, ...,  236.41146851,\n",
       "          236.41757202,  236.40863037]],\n",
       "\n",
       "       [[ 273.24267578,  273.27508545,  273.3052063 , ...,  273.32641602,\n",
       "          273.29885864,  273.25170898],\n",
       "        [ 273.65966797,  273.69671631,  273.71954346, ...,  273.70153809,\n",
       "          273.67755127,  273.64920044],\n",
       "        [ 274.02685547,  274.07055664,  274.09963989, ...,  274.03289795,\n",
       "          274.01373291,  274.00610352],\n",
       "        ..., \n",
       "        [ 240.28005981,  240.37133789,  240.38024902, ...,  240.19088745,\n",
       "          240.18095398,  240.20205688],\n",
       "        [ 240.10154724,  240.19143677,  240.20706177, ...,  240.00872803,\n",
       "          240.0246582 ,  240.04110718],\n",
       "        [ 239.88394165,  239.94973755,  239.97201538, ...,  239.82611084,\n",
       "          239.84115601,  239.83456421]],\n",
       "\n",
       "       [[ 273.39294434,  273.43057251,  273.4392395 , ...,  273.43756104,\n",
       "          273.42098999,  273.39257812],\n",
       "        [ 273.79098511,  273.81692505,  273.83352661, ...,  273.82055664,\n",
       "          273.80700684,  273.78607178],\n",
       "        [ 274.12838745,  274.14630127,  274.16586304, ...,  274.14389038,\n",
       "          274.13143921,  274.12353516],\n",
       "        ..., \n",
       "        [ 241.0501709 ,  241.08244324,  241.11505127, ...,  241.33291626,\n",
       "          241.30496216,  241.1519165 ],\n",
       "        [ 240.7089386 ,  240.74708557,  240.766922  , ...,  240.98272705,\n",
       "          240.9430542 ,  240.79727173],\n",
       "        [ 240.33099365,  240.35560608,  240.36747742, ...,  240.56999207,\n",
       "          240.5091095 ,  240.3752594 ]],\n",
       "\n",
       "       ..., \n",
       "       [[ 274.59454346,  274.57958984,  274.57141113, ...,  274.71331787,\n",
       "          274.6751709 ,  274.61758423],\n",
       "        [ 274.69683838,  274.68218994,  274.67489624, ...,  274.75665283,\n",
       "          274.7322998 ,  274.70629883],\n",
       "        [ 274.76165771,  274.75158691,  274.74383545, ...,  274.79956055,\n",
       "          274.78894043,  274.77062988],\n",
       "        ..., \n",
       "        [ 235.22529602,  235.40888977,  235.50259399, ...,  235.14822388,\n",
       "          235.15606689,  235.15881348],\n",
       "        [ 235.08638   ,  235.26029968,  235.34875488, ...,  234.99545288,\n",
       "          235.00335693,  235.0124054 ],\n",
       "        [ 234.95536804,  235.09779358,  235.17236328, ...,  234.878479  ,\n",
       "          234.87017822,  234.87469482]],\n",
       "\n",
       "       [[ 274.097229  ,  274.03826904,  274.0138855 , ...,  274.26602173,\n",
       "          274.22634888,  274.15805054],\n",
       "        [ 274.14318848,  274.10293579,  274.08200073, ...,  274.25701904,\n",
       "          274.23022461,  274.1880188 ],\n",
       "        [ 274.16357422,  274.12963867,  274.1137085 , ...,  274.24502563,\n",
       "          274.23083496,  274.20059204],\n",
       "        ..., \n",
       "        [ 236.65060425,  236.5328064 ,  236.46026611, ...,  236.92193604,\n",
       "          236.87393188,  236.75506592],\n",
       "        [ 236.79425049,  236.66708374,  236.57580566, ...,  237.09454346,\n",
       "          237.04216003,  236.91268921],\n",
       "        [ 236.90507507,  236.76867676,  236.66781616, ...,  237.20628357,\n",
       "          237.16110229,  237.02993774]],\n",
       "\n",
       "       [[ 274.09695435,  274.08029175,  274.06817627, ...,  274.2046814 ,\n",
       "          274.18908691,  274.13967896],\n",
       "        [ 274.11517334,  274.10598755,  274.0993042 , ...,  274.19238281,\n",
       "          274.17474365,  274.14147949],\n",
       "        [ 274.14242554,  274.13876343,  274.13076782, ...,  274.19226074,\n",
       "          274.18255615,  274.15997314],\n",
       "        ..., \n",
       "        [ 236.97944641,  236.93367004,  236.89151001, ...,  237.31634521,\n",
       "          237.24871826,  237.0809021 ],\n",
       "        [ 237.00445557,  236.93338013,  236.90093994, ...,  237.3573761 ,\n",
       "          237.28504944,  237.10458374],\n",
       "        [ 237.01176453,  236.93548584,  236.88348389, ...,  237.39198303,\n",
       "          237.31382751,  237.14175415]]], dtype=float32)"
      ]
     },
     "execution_count": 8,
     "metadata": {},
     "output_type": "execute_result"
    }
   ],
   "source": [
    "model_averages.compute()"
   ]
  },
  {
   "cell_type": "code",
   "execution_count": 11,
   "metadata": {
    "autoscroll": false,
    "ein.tags": "worksheet-0",
    "slideshow": {
     "slide_type": "-"
    }
   },
   "outputs": [
    {
     "data": {
      "text/plain": [
       "dask.array<rechunk-merge, shape=(1826, 720, 1440), dtype=float32, chunksize=(731, 120, 120)>"
      ]
     },
     "execution_count": 11,
     "metadata": {},
     "output_type": "execute_result"
    }
   ],
   "source": [
    "# To concatenate dask arrays\n",
    "stack = da.concatenate(da_dsets, axis = 0)\n",
    "stack_rechunked = stack.rechunk((731, 120, 120))\n",
    "\n",
    "stack_rechunked"
   ]
  },
  {
   "cell_type": "code",
   "execution_count": 12,
   "metadata": {
    "autoscroll": false,
    "ein.tags": "worksheet-0",
    "slideshow": {
     "slide_type": "-"
    }
   },
   "outputs": [
    {
     "data": {
      "text/plain": [
       "array([[  9.80100000e+01,   1.98010000e+02,   2.98010000e+02, ...,\n",
       "          9.79801000e+03,   9.89801000e+03,   9.99801000e+03],\n",
       "       [  1.00980100e+04,   1.01980100e+04,   1.02980100e+04, ...,\n",
       "          1.97980100e+04,   1.98980100e+04,   1.99980100e+04],\n",
       "       [  2.00980100e+04,   2.01980100e+04,   2.02980100e+04, ...,\n",
       "          2.97980100e+04,   2.98980100e+04,   2.99980100e+04],\n",
       "       ..., \n",
       "       [  9.70098010e+05,   9.70198010e+05,   9.70298010e+05, ...,\n",
       "          9.79798010e+05,   9.79898010e+05,   9.79998010e+05],\n",
       "       [  9.80098010e+05,   9.80198010e+05,   9.80298010e+05, ...,\n",
       "          9.89798010e+05,   9.89898010e+05,   9.89998010e+05],\n",
       "       [  9.90098010e+05,   9.90198010e+05,   9.90298010e+05, ...,\n",
       "          9.99798010e+05,   9.99898010e+05,   9.99998010e+05]])"
      ]
     },
     "execution_count": 12,
     "metadata": {},
     "output_type": "execute_result"
    }
   ],
   "source": [
    "@delayed\n",
    "def custom_percentile(a, q = 99, **kwargs):\n",
    "    return numpy.percentile(a, q, **kwargs)\n",
    "\n",
    "@delayed\n",
    "def custom_nanpercentile(a, q = 99, **kwargs):\n",
    "    return numpy.nanpercentile(a, q, **kwargs)\n",
    "\n",
    "\n",
    "# custom_percentile(da.from_array(numpy.arange(1000000).reshape(100, 100, 100), chunks=(10))).compute()\n",
    "custom_nanpercentile(da.from_array(numpy.arange(1000000).reshape(100, 100, 100), chunks=(10)), axis=2).compute()"
   ]
  },
  {
   "cell_type": "code",
   "execution_count": 13,
   "metadata": {
    "autoscroll": false,
    "ein.tags": "worksheet-0",
    "slideshow": {
     "slide_type": "-"
    }
   },
   "outputs": [
    {
     "name": "stdout",
     "output_type": "stream",
     "text": [
      "2min 45s ± 517 ms per loop (mean ± std. dev. of 7 runs, 1 loop each)\n"
     ]
    }
   ],
   "source": [
    "# Running some speed tests\n",
    "op = custom_percentile(stack, axis = 0)\n",
    "%timeit res = op.compute()"
   ]
  },
  {
   "cell_type": "code",
   "execution_count": null,
   "metadata": {
    "autoscroll": false,
    "collapsed": true,
    "ein.tags": "worksheet-0",
    "slideshow": {
     "slide_type": "-"
    }
   },
   "outputs": [],
   "source": [
    "op = custom_nanpercentile(stack_rechunked, axis = 0)\n",
    "%timeit res = op.compute()"
   ]
  },
  {
   "cell_type": "code",
   "execution_count": null,
   "metadata": {
    "autoscroll": false,
    "collapsed": true,
    "ein.tags": "worksheet-0",
    "slideshow": {
     "slide_type": "-"
    }
   },
   "outputs": [],
   "source": [
    "raster_percentile = custom_percentile(stack_rechunked, axis = 0).compute()\n",
    "raster_nan_percentile = custom_nanpercentile(stack_rechunked, axis = 0).compute()"
   ]
  },
  {
   "cell_type": "code",
   "execution_count": null,
   "metadata": {
    "autoscroll": false,
    "collapsed": true,
    "ein.tags": "worksheet-0",
    "slideshow": {
     "slide_type": "-"
    }
   },
   "outputs": [],
   "source": [
    "raster_percentile = custom_percentile(stack_rechunked, axis = 0).compute()"
   ]
  },
  {
   "cell_type": "code",
   "execution_count": null,
   "metadata": {
    "autoscroll": false,
    "collapsed": true,
    "ein.tags": "worksheet-0",
    "slideshow": {
     "slide_type": "-"
    }
   },
   "outputs": [],
   "source": [
    "raster_percentile.shape"
   ]
  },
  {
   "cell_type": "code",
   "execution_count": null,
   "metadata": {
    "autoscroll": false,
    "collapsed": true,
    "ein.tags": "worksheet-0",
    "slideshow": {
     "slide_type": "-"
    }
   },
   "outputs": [],
   "source": [
    "mask = (raster_percentile == numpy.amax(raster_percentile))\n",
    "mask"
   ]
  },
  {
   "cell_type": "code",
   "execution_count": null,
   "metadata": {
    "autoscroll": false,
    "collapsed": true,
    "ein.tags": "worksheet-0",
    "slideshow": {
     "slide_type": "-"
    }
   },
   "outputs": [],
   "source": [
    "# I guess that percentile is enough\n",
    "\n",
    "# raster_percentile is read only\n",
    "raster_percentile_copy = raster_percentile.copy()\n",
    "# beware the NaNs\n",
    "raster_percentile_copy[mask] = numpy.nan\n",
    "ptp, amax = (numpy.nanmax(raster_percentile_copy) - numpy.nanmin(raster_percentile_copy), numpy.nanmax(raster_percentile_copy))\n",
    "norm_0_1 = (raster_percentile_copy - amax) / -ptp\n",
    "norm_0_1\n",
    "plt.figure(figsize = (12, 24))\n",
    "plt.imshow(norm_0_1, origin='lower', cmap='coolwarm_r')"
   ]
  },
  {
   "cell_type": "code",
   "execution_count": null,
   "metadata": {
    "autoscroll": false,
    "collapsed": true,
    "ein.tags": "worksheet-0",
    "slideshow": {
     "slide_type": "-"
    }
   },
   "outputs": [],
   "source": []
  }
 ],
 "metadata": {
  "kernelspec": {
   "display_name": "Python 3",
   "language": "python",
   "name": "python3"
  },
  "language_info": {
   "codemirror_mode": {
    "name": "ipython",
    "version": 3
   },
   "file_extension": ".py",
   "mimetype": "text/x-python",
   "name": "python",
   "nbconvert_exporter": "python",
   "pygments_lexer": "ipython3",
   "version": "3.6.3"
  },
  "name": "dask.ipynb"
 },
 "nbformat": 4,
 "nbformat_minor": 2
}
