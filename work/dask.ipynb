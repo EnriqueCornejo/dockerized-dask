{
 "cells": [
  {
   "cell_type": "code",
   "execution_count": 12,
   "metadata": {
    "autoscroll": false,
    "collapsed": false,
    "ein.tags": "worksheet-0",
    "slideshow": {
     "slide_type": "-"
    }
   },
   "outputs": [
    {
     "data": {
      "text/plain": [
       "<Client: scheduler='tcp://172.22.0.2:8786' processes=0 cores=0>"
      ]
     },
     "execution_count": 12,
     "metadata": {},
     "output_type": "execute_result"
    }
   ],
   "source": [
    "client.restart()"
   ]
  },
  {
   "cell_type": "code",
   "execution_count": 2,
   "metadata": {
    "autoscroll": false,
    "collapsed": false,
    "ein.tags": "worksheet-0",
    "slideshow": {
     "slide_type": "-"
    }
   },
   "outputs": [],
   "source": [
    "%load_ext memory_profiler"
   ]
  },
  {
   "cell_type": "code",
   "execution_count": 13,
   "metadata": {
    "autoscroll": false,
    "collapsed": false,
    "ein.tags": "worksheet-0",
    "scrolled": true,
    "slideshow": {
     "slide_type": "-"
    }
   },
   "outputs": [
    {
     "data": {
      "text/plain": [
       "'OK'"
      ]
     },
     "execution_count": 13,
     "metadata": {},
     "output_type": "execute_result"
    }
   ],
   "source": [
    "%matplotlib inline\n",
    "\n",
    "import matplotlib.pyplot as plt\n",
    "from dask.dot import dot_graph\n",
    "import itertools\n",
    "import logging\n",
    "import netCDF4\n",
    "import numpy as np\n",
    "import dask.array as da\n",
    "from dask import delayed\n",
    "import time\n",
    "from dask.distributed import Client\n",
    "from urllib import request\n",
    "from multiprocessing import Pool\n",
    "\n",
    "\n",
    "client = Client('scheduler:8786')\n",
    "#client = Client(processes=False)\n",
    "\n",
    "download_location = '/temp'\n",
    "data_url = 'http://172.22.0.1:8080'\n",
    "max_download_attempts = 5\n",
    "\n",
    "all_models = ['ACCESS1-0',  'BNU-ESM', 'CCSM4', 'CESM1-BGC', 'CNRM-CM5', 'CSIRO-Mk3-6-0', 'CanESM2', 'GFDL-CM3', 'GFDL-ESM2G', 'GFDL-ESM2M', 'IPSL-CM5A-LR', 'IPSL-CM5A-MR', 'MIROC-ESM-CHEM', 'MIROC-ESM', 'MIROC5', 'MPI-ESM-LR', 'MPI-ESM-MR', 'MRI-CGCM3', 'NorESM1-M', 'bcc-csm1-1', 'inmcm4']\n",
    "all_models = ['ACCESS1-0', 'BNU-ESM'] \n",
    "all_vars = ['tasmax', 'pr']\n",
    "all_years = {\n",
    "     # 'historical': list(range(1971, 1976))\n",
    "    'historical': list(range(1971, 2001))\n",
    "}\n",
    "\n",
    "def get_dataset_url(variable, scenario, model, year, prefix = data_url):\n",
    "    prefix_filename = '/'.join([prefix, 'NEX-GDDP', 'BCSD', scenario, 'day', 'atmos', variable, 'r1i1p1', 'v1.0'])\n",
    "    # prefix_filename = data_url + '/data'\n",
    "    filename = '_'.join([variable, 'day', 'BCSD', scenario, 'r1i1p1', model, str(year) + '.nc'])\n",
    "    url = '/'.join([prefix_filename, filename])\n",
    "    return url\n",
    "\n",
    "def get_context(year, **kwargs):\n",
    "    variables = [kwargs.get('variable')] if kwargs.get('variable') else all_vars\n",
    "    scenarios = ['historical']\n",
    "    models = [kwargs.get('model')] if kwargs.get('model') else all_models\n",
    "    outlist = []\n",
    "    combinations = list(itertools.product(variables, scenarios, models))\n",
    "    result = list(map(lambda comb: [ *comb, year ], combinations))\n",
    "    return result\n",
    "\n",
    "def get_year_ensemble(year, variable = 'tasmax'):\n",
    "    context = get_context(year, variable = variable)\n",
    "    datasets = list(map(lambda x: str(get_dataset_url(*x)), context))\n",
    "    return datasets\n",
    "\n",
    "def download_file(url):\n",
    "    print(\"url: \" + url)\n",
    "    attempts = 0\n",
    "    success = False\n",
    "    filename = \"\"\n",
    "    while attempts < max_download_attempts and not success:\n",
    "        time.sleep(2 ** attempts)\n",
    "        filename = '/'.join([download_location, str(url.split('/')[-1])])\n",
    "        print(\"Downloading file at \" + filename)\n",
    "        u = request.urlopen(url)\n",
    "        f = open(filename, 'wb')\n",
    "        f.write(u.read())\n",
    "        f.close()\n",
    "        success = True\n",
    "        break\n",
    "    return filename\n",
    "\n",
    "def download_file_list(url_list):\n",
    "    print(\"Starting download pool\")\n",
    "    pool = Pool()\n",
    "    res = pool.map(download_file, url_list)\n",
    "    print(\"Jobs sent\")\n",
    "    pool.close()\n",
    "    pool.join()\n",
    "    print(\"Downloads finished\")\n",
    "    print(res)\n",
    "    return res\n",
    "\n",
    "\"OK\""
   ]
  },
  {
   "cell_type": "code",
   "execution_count": 44,
   "metadata": {
    "autoscroll": false,
    "collapsed": false,
    "ein.tags": "worksheet-0",
    "scrolled": true,
    "slideshow": {
     "slide_type": "-"
    }
   },
   "outputs": [
    {
     "name": "stdout",
     "output_type": "stream",
     "text": [
      "Starting download pool\n"
     ]
    },
    {
     "name": "stdout",
     "output_type": "stream",
     "text": [
      "url: http://172.22.0.1:8080/NEX-GDDP/BCSD/historical/day/atmos/tasmax/r1i1p1/v1.0/tasmax_day_BCSD_historical_r1i1p1_ACCESS1-0_1971.nc\n"
     ]
    },
    {
     "name": "stdout",
     "output_type": "stream",
     "text": [
      "url: http://172.22.0.1:8080/NEX-GDDP/BCSD/historical/day/atmos/tasmax/r1i1p1/v1.0/tasmax_day_BCSD_historical_r1i1p1_BNU-ESM_1971.nc\n"
     ]
    },
    {
     "name": "stdout",
     "output_type": "stream",
     "text": [
      "Downloading file at /temp/tasmax_day_BCSD_historical_r1i1p1_ACCESS1-0_1971.nc\n"
     ]
    },
    {
     "name": "stdout",
     "output_type": "stream",
     "text": [
      "Downloading file at /temp/tasmax_day_BCSD_historical_r1i1p1_BNU-ESM_1971.nc\n"
     ]
    },
    {
     "name": "stdout",
     "output_type": "stream",
     "text": [
      "Jobs sent\n",
      "Downloads finished\n",
      "['/temp/tasmax_day_BCSD_historical_r1i1p1_ACCESS1-0_1971.nc', '/temp/tasmax_day_BCSD_historical_r1i1p1_BNU-ESM_1971.nc']\n"
     ]
    },
    {
     "data": {
      "text/plain": [
       "array([[[  5.00000010e+19,   5.00000010e+19,   5.00000010e+19, ...,\n           5.00000010e+19,   5.00000010e+19,   5.00000010e+19],\n        [  5.00000010e+19,   5.00000010e+19,   5.00000010e+19, ...,\n           5.00000010e+19,   5.00000010e+19,   5.00000010e+19],\n        [  5.00000010e+19,   5.00000010e+19,   5.00000010e+19, ...,\n           5.00000010e+19,   5.00000010e+19,   5.00000010e+19],\n        ..., \n        [  5.00000010e+19,   5.00000010e+19,   5.00000010e+19, ...,\n           5.00000010e+19,   5.00000010e+19,   5.00000010e+19],\n        [  5.00000010e+19,   5.00000010e+19,   5.00000010e+19, ...,\n           5.00000010e+19,   5.00000010e+19,   5.00000010e+19],\n        [  5.00000010e+19,   5.00000010e+19,   5.00000010e+19, ...,\n           5.00000010e+19,   5.00000010e+19,   5.00000010e+19]],\n\n       [[  5.00000010e+19,   5.00000010e+19,   5.00000010e+19, ...,\n           5.00000010e+19,   5.00000010e+19,   5.00000010e+19],\n        [  5.00000010e+19,   5.00000010e+19,   5.00000010e+19, ...,\n           5.00000010e+19,   5.00000010e+19,   5.00000010e+19],\n        [  5.00000010e+19,   5.00000010e+19,   5.00000010e+19, ...,\n           5.00000010e+19,   5.00000010e+19,   5.00000010e+19],\n        ..., \n        [  5.00000010e+19,   5.00000010e+19,   5.00000010e+19, ...,\n           5.00000010e+19,   5.00000010e+19,   5.00000010e+19],\n        [  5.00000010e+19,   5.00000010e+19,   5.00000010e+19, ...,\n           5.00000010e+19,   5.00000010e+19,   5.00000010e+19],\n        [  5.00000010e+19,   5.00000010e+19,   5.00000010e+19, ...,\n           5.00000010e+19,   5.00000010e+19,   5.00000010e+19]],\n\n       [[  5.00000010e+19,   5.00000010e+19,   5.00000010e+19, ...,\n           5.00000010e+19,   5.00000010e+19,   5.00000010e+19],\n        [  5.00000010e+19,   5.00000010e+19,   5.00000010e+19, ...,\n           5.00000010e+19,   5.00000010e+19,   5.00000010e+19],\n        [  5.00000010e+19,   5.00000010e+19,   5.00000010e+19, ...,\n           5.00000010e+19,   5.00000010e+19,   5.00000010e+19],\n        ..., \n        [  5.00000010e+19,   5.00000010e+19,   5.00000010e+19, ...,\n           5.00000010e+19,   5.00000010e+19,   5.00000010e+19],\n        [  5.00000010e+19,   5.00000010e+19,   5.00000010e+19, ...,\n           5.00000010e+19,   5.00000010e+19,   5.00000010e+19],\n        [  5.00000010e+19,   5.00000010e+19,   5.00000010e+19, ...,\n           5.00000010e+19,   5.00000010e+19,   5.00000010e+19]],\n\n       ..., \n       [[  5.00000010e+19,   5.00000010e+19,   5.00000010e+19, ...,\n           5.00000010e+19,   5.00000010e+19,   5.00000010e+19],\n        [  5.00000010e+19,   5.00000010e+19,   5.00000010e+19, ...,\n           5.00000010e+19,   5.00000010e+19,   5.00000010e+19],\n        [  5.00000010e+19,   5.00000010e+19,   5.00000010e+19, ...,\n           5.00000010e+19,   5.00000010e+19,   5.00000010e+19],\n        ..., \n        [  5.00000010e+19,   5.00000010e+19,   5.00000010e+19, ...,\n           5.00000010e+19,   5.00000010e+19,   5.00000010e+19],\n        [  5.00000010e+19,   5.00000010e+19,   5.00000010e+19, ...,\n           5.00000010e+19,   5.00000010e+19,   5.00000010e+19],\n        [  5.00000010e+19,   5.00000010e+19,   5.00000010e+19, ...,\n           5.00000010e+19,   5.00000010e+19,   5.00000010e+19]],\n\n       [[  5.00000010e+19,   5.00000010e+19,   5.00000010e+19, ...,\n           5.00000010e+19,   5.00000010e+19,   5.00000010e+19],\n        [  5.00000010e+19,   5.00000010e+19,   5.00000010e+19, ...,\n           5.00000010e+19,   5.00000010e+19,   5.00000010e+19],\n        [  5.00000010e+19,   5.00000010e+19,   5.00000010e+19, ...,\n           5.00000010e+19,   5.00000010e+19,   5.00000010e+19],\n        ..., \n        [  5.00000010e+19,   5.00000010e+19,   5.00000010e+19, ...,\n           5.00000010e+19,   5.00000010e+19,   5.00000010e+19],\n        [  5.00000010e+19,   5.00000010e+19,   5.00000010e+19, ...,\n           5.00000010e+19,   5.00000010e+19,   5.00000010e+19],\n        [  5.00000010e+19,   5.00000010e+19,   5.00000010e+19, ...,\n           5.00000010e+19,   5.00000010e+19,   5.00000010e+19]],\n\n       [[  5.00000010e+19,   5.00000010e+19,   5.00000010e+19, ...,\n           5.00000010e+19,   5.00000010e+19,   5.00000010e+19],\n        [  5.00000010e+19,   5.00000010e+19,   5.00000010e+19, ...,\n           5.00000010e+19,   5.00000010e+19,   5.00000010e+19],\n        [  5.00000010e+19,   5.00000010e+19,   5.00000010e+19, ...,\n           5.00000010e+19,   5.00000010e+19,   5.00000010e+19],\n        ..., \n        [  5.00000010e+19,   5.00000010e+19,   5.00000010e+19, ...,\n           5.00000010e+19,   5.00000010e+19,   5.00000010e+19],\n        [  5.00000010e+19,   5.00000010e+19,   5.00000010e+19, ...,\n           5.00000010e+19,   5.00000010e+19,   5.00000010e+19],\n        [  5.00000010e+19,   5.00000010e+19,   5.00000010e+19, ...,\n           5.00000010e+19,   5.00000010e+19,   5.00000010e+19]]], dtype=float32)"
      ]
     },
     "execution_count": 44,
     "metadata": {},
     "output_type": "execute_result"
    }
   ],
   "source": [
    "def download_and_stack(year, variable):\n",
    "    dsets_urls = list(map(lambda x: get_year_ensemble(x, variable = variable), [year]))[0]\n",
    "    filenames = download_file_list(dsets_urls)\n",
    "    datasets = [ netCDF4.Dataset(filename) for filename in filenames ]\n",
    "    dask_arrays = []\n",
    "    for dset in datasets:\n",
    "        dask_arrays.append(da.from_array(dset['tasmax'], chunks= (366, 144, 144)))\n",
    "    final_stack = da.stack(dask_arrays, axis = 0)\n",
    "    return final_stack\n",
    "\n",
    "def avg_over_first_axis(darray):\n",
    "    return np.average(darray, axis=0)\n",
    "\n",
    "stack_1971 = download_and_stack(1971, variable='tasmax')\n",
    "avg_stack_1971 = avg_over_first_axis(stack_1971)\n",
    "avg_stack_1971"
   ]
  },
  {
   "cell_type": "code",
   "execution_count": 39,
   "metadata": {
    "autoscroll": false,
    "collapsed": false,
    "ein.tags": "worksheet-0",
    "slideshow": {
     "slide_type": "-"
    }
   },
   "outputs": [
    {
     "data": {
      "text/plain": [
       "dask.array<array, shape=(365, 720, 1440), dtype=float32, chunksize=(365, 144, 144)>"
      ]
     },
     "execution_count": 39,
     "metadata": {},
     "output_type": "execute_result"
    }
   ],
   "source": [
    " da.from_array(stack_1971[0], chunks=(366, 144, 144))"
   ]
  },
  {
   "cell_type": "code",
   "execution_count": 14,
   "metadata": {
    "autoscroll": false,
    "collapsed": false,
    "ein.tags": "worksheet-0",
    "slideshow": {
     "slide_type": "-"
    }
   },
   "outputs": [
    {
     "data": {
      "text/plain": [
       "{'tcp://172.22.0.3:34753': 8}"
      ]
     },
     "execution_count": 14,
     "metadata": {},
     "output_type": "execute_result"
    }
   ],
   "source": [
    "client.ncores()"
   ]
  },
  {
   "cell_type": "code",
   "execution_count": 10,
   "metadata": {
    "autoscroll": false,
    "collapsed": false,
    "ein.tags": "worksheet-0",
    "slideshow": {
     "slide_type": "-"
    }
   },
   "outputs": [
    {
     "ename": "AttributeError",
     "evalue": "NetCDF: Attribute not found",
     "output_type": "error",
     "traceback": [
      "\u001b[0;31m---------------------------------------------------------------------------\u001b[0m",
      "\u001b[0;31mAttributeError\u001b[0m                            Traceback (most recent call last)",
      "\u001b[0;32m<ipython-input-10-0e9fea2e7330>\u001b[0m in \u001b[0;36m<module>\u001b[0;34m()\u001b[0m\n\u001b[0;32m----> 1\u001b[0;31m \u001b[0mstack\u001b[0m \u001b[0;34m=\u001b[0m \u001b[0mda\u001b[0m\u001b[0;34m.\u001b[0m\u001b[0mconcatenate\u001b[0m\u001b[0;34m(\u001b[0m\u001b[0mstack_1971\u001b[0m\u001b[0;34m,\u001b[0m \u001b[0maxis\u001b[0m \u001b[0;34m=\u001b[0m \u001b[0;36m0\u001b[0m\u001b[0;34m)\u001b[0m\u001b[0;34m\u001b[0m\u001b[0m\n\u001b[0m\u001b[1;32m      2\u001b[0m \u001b[0mstack\u001b[0m\u001b[0;34m\u001b[0m\u001b[0m\n",
      "\u001b[0;32m/opt/conda/envs/dask/lib/python3.6/site-packages/dask/array/core.py\u001b[0m in \u001b[0;36mconcatenate\u001b[0;34m(seq, axis, allow_unknown_chunksizes)\u001b[0m\n\u001b[1;32m   2330\u001b[0m     \"\"\"\n\u001b[1;32m   2331\u001b[0m     \u001b[0mn\u001b[0m \u001b[0;34m=\u001b[0m \u001b[0mlen\u001b[0m\u001b[0;34m(\u001b[0m\u001b[0mseq\u001b[0m\u001b[0;34m)\u001b[0m\u001b[0;34m\u001b[0m\u001b[0m\n\u001b[0;32m-> 2332\u001b[0;31m     \u001b[0mndim\u001b[0m \u001b[0;34m=\u001b[0m \u001b[0mlen\u001b[0m\u001b[0;34m(\u001b[0m\u001b[0mseq\u001b[0m\u001b[0;34m[\u001b[0m\u001b[0;36m0\u001b[0m\u001b[0;34m]\u001b[0m\u001b[0;34m.\u001b[0m\u001b[0mshape\u001b[0m\u001b[0;34m)\u001b[0m\u001b[0;34m\u001b[0m\u001b[0m\n\u001b[0m\u001b[1;32m   2333\u001b[0m \u001b[0;34m\u001b[0m\u001b[0m\n\u001b[1;32m   2334\u001b[0m     \u001b[0;32mif\u001b[0m \u001b[0maxis\u001b[0m \u001b[0;34m<\u001b[0m \u001b[0;36m0\u001b[0m\u001b[0;34m:\u001b[0m\u001b[0;34m\u001b[0m\u001b[0m\n",
      "\u001b[0;32mnetCDF4/_netCDF4.pyx\u001b[0m in \u001b[0;36mnetCDF4._netCDF4.Dataset.__getattr__\u001b[0;34m()\u001b[0m\n",
      "\u001b[0;32mnetCDF4/_netCDF4.pyx\u001b[0m in \u001b[0;36mnetCDF4._netCDF4.Dataset.getncattr\u001b[0;34m()\u001b[0m\n",
      "\u001b[0;32mnetCDF4/_netCDF4.pyx\u001b[0m in \u001b[0;36mnetCDF4._netCDF4._get_att\u001b[0;34m()\u001b[0m\n",
      "\u001b[0;32mnetCDF4/_netCDF4.pyx\u001b[0m in \u001b[0;36mnetCDF4._netCDF4._ensure_nc_success\u001b[0;34m()\u001b[0m\n",
      "\u001b[0;31mAttributeError\u001b[0m: NetCDF: Attribute not found"
     ]
    }
   ],
   "source": [
    "stack = da.concatenate(stack_1971, axis = 0)\n",
    "stack"
   ]
  },
  {
   "cell_type": "code",
   "execution_count": 26,
   "metadata": {
    "autoscroll": false,
    "collapsed": false,
    "ein.tags": "worksheet-0",
    "slideshow": {
     "slide_type": "-"
    }
   },
   "outputs": [
    {
     "data": {
      "text/plain": [
       "array([[[ 273.59411621,  273.62255859,  273.62002563, ...,  273.63659668,\n          273.60528564,  273.58834839],\n        [ 273.95245361,  273.97991943,  273.98950195, ...,  273.9395752 ,\n          273.93780518,  273.93704224],\n        [ 274.27890015,  274.3119812 ,  274.32345581, ...,  274.23913574,\n          274.24472046,  274.25942993],\n        ..., \n        [ 236.15135193,  236.27227783,  236.36195374, ...,  235.9937439 ,\n          236.01846313,  236.06578064],\n        [ 236.26147461,  236.39093018,  236.48231506, ...,  236.14746094,\n          236.16404724,  236.20040894],\n        [ 236.39985657,  236.49971008,  236.55255127, ...,  236.31938171,\n          236.33621216,  236.33799744]],\n\n       [[ 275.32006836,  275.34921265,  275.37612915, ...,  275.40203857,\n          275.37585449,  275.33001709],\n        [ 275.73413086,  275.76617432,  275.78396606, ...,  275.78521729,\n          275.75854492,  275.72753906],\n        [ 276.09841919,  276.13531494,  276.15756226, ...,  276.12457275,\n          276.09872437,  276.08444214],\n        ..., \n        [ 237.0743866 ,  237.14935303,  237.14190674, ...,  237.02380371,\n          237.00170898,  237.01063538],\n        [ 237.39614868,  237.45223999,  237.43406677, ...,  237.36315918,\n          237.36192322,  237.36120605],\n        [ 237.67881775,  237.69334412,  237.66435242, ...,  237.70204163,\n          237.69490051,  237.6661377 ]],\n\n       [[ 275.118927  ,  275.15951538,  275.1711731 , ...,  275.16247559,\n          275.14575195,  275.1171875 ],\n        [ 275.35092163,  275.37979126,  275.39929199, ...,  275.38031006,\n          275.36624146,  275.34481812],\n        [ 275.52230835,  275.54302979,  275.56546021, ...,  275.53848267,\n          275.525177  ,  275.51647949],\n        ..., \n        [ 238.10766602,  238.1174469 ,  238.12754822, ...,  238.45375061,\n          238.40496826,  238.2310791 ],\n        [ 238.06105042,  238.07489014,  238.07041931, ...,  238.38122559,\n          238.32785034,  238.16838074],\n        [ 237.97769165,  237.97621155,  237.96199036, ...,  238.24615479,\n          238.17871094,  238.03829956]],\n\n       ..., \n       [[ 269.96350098,  269.95880127,  269.96084595, ...,  270.09997559,\n          270.05270386,  269.98599243],\n        [ 270.14068604,  270.13638306,  270.13946533, ...,  270.21182251,\n          270.18084717,  270.14828491],\n        [ 270.28036499,  270.28079224,  270.28353882, ...,  270.32321167,\n          270.3085022 ,  270.28610229],\n        ..., \n        [ 230.25769043,  230.45793152,  230.56826782, ...,  230.24273682,\n          230.22239685,  230.19697571],\n        [ 229.70204163,  229.89526367,  230.00302124, ...,  229.68127441,\n          229.65725708,  229.63438416],\n        [ 229.15431213,  229.31867981,  229.41522217, ...,  229.15563965,\n          229.11167908,  229.08050537]],\n\n       [[ 269.30950928,  269.25805664,  269.24121094, ...,  269.48254395,\n          269.43963623,  269.36813354],\n        [ 269.3868103 ,  269.35653687,  269.34555054, ...,  269.50076294,\n          269.47192383,  269.42767334],\n        [ 269.43856812,  269.41705322,  269.41351318, ...,  269.51599121,\n          269.50091553,  269.46984863],\n        ..., \n        [ 234.00634766,  233.91755676,  233.8740387 , ...,  234.27816772,\n          234.22415161,  234.0993042 ],\n        [ 233.88110352,  233.77763367,  233.71003723, ...,  234.20535278,\n          234.13864136,  233.99487305],\n        [ 233.72306824,  233.60502625,  233.52249146, ...,  234.07164001,\n          234.00384521,  233.85005188]],\n\n       [[ 269.16540527,  269.15878296,  269.15670776, ...,  269.28341675,\n          269.26171875,  269.20617676],\n        [ 269.29147339,  269.29376221,  269.29849243, ...,  269.38336182,\n          269.35754395,  269.31613159],\n        [ 269.42654419,  269.4357605 ,  269.44067383, ...,  269.49545288,\n          269.4755249 ,  269.44277954],\n        ..., \n        [ 233.09359741,  233.0687561 ,  233.04748535, ...,  233.41275024,\n          233.34803772,  233.18315125],\n        [ 233.13598633,  233.08322144,  233.06910706, ...,  233.49645996,\n          233.41744995,  233.23028564],\n        [ 233.16065979,  233.10011292,  233.06387329, ...,  233.57374573,\n          233.47929382,  233.29092407]]], dtype=float32)"
      ]
     },
     "execution_count": 26,
     "metadata": {},
     "output_type": "execute_result"
    }
   ],
   "source": [
    "test_array = da.from_array(stack_1971[0], chunks = (30, 72, 72))\n"
   ]
  },
  {
   "cell_type": "code",
   "execution_count": null,
   "metadata": {
    "autoscroll": false,
    "collapsed": false,
    "ein.tags": "worksheet-0",
    "slideshow": {
     "slide_type": "-"
    }
   },
   "outputs": [],
   "source": [
    "dot_graph(stack.dask)"
   ]
  },
  {
   "cell_type": "code",
   "execution_count": null,
   "metadata": {
    "autoscroll": false,
    "collapsed": false,
    "ein.tags": "worksheet-0",
    "slideshow": {
     "slide_type": "-"
    }
   },
   "outputs": [],
   "source": [
    "%%timeit\n",
    "\n",
    "block = stack[:, 0:180, 0:180]\n",
    "res = np.percentile(block, 99, axis = 0)\n",
    "res"
   ]
  },
  {
   "cell_type": "code",
   "execution_count": 45,
   "metadata": {
    "autoscroll": false,
    "collapsed": false,
    "ein.tags": "worksheet-0",
    "slideshow": {
     "slide_type": "-"
    }
   },
   "outputs": [],
   "source": [
    "def per_ch_sz(chsize):\n",
    "    randarr = np.random.randn(10958, chsize, chsize)\n",
    "    res = np.percentile(randarr, 99, axis = 0)\n",
    "    return res"
   ]
  },
  {
   "cell_type": "code",
   "execution_count": 46,
   "metadata": {
    "autoscroll": false,
    "collapsed": false,
    "ein.tags": "worksheet-0",
    "slideshow": {
     "slide_type": "-"
    }
   },
   "outputs": [
    {
     "name": "stdout",
     "output_type": "stream",
     "text": [
      "peak memory: 7697.44 MiB, increment: 3467.30 MiB\n"
     ]
    }
   ],
   "source": [
    "%memit per_ch_sz(144)"
   ]
  },
  {
   "cell_type": "code",
   "execution_count": 47,
   "metadata": {
    "autoscroll": false,
    "collapsed": false,
    "ein.tags": "worksheet-0",
    "slideshow": {
     "slide_type": "-"
    }
   },
   "outputs": [
    {
     "name": "stdout",
     "output_type": "stream",
     "text": [
      "14.2 s ± 140 ms per loop (mean ± std. dev. of 7 runs, 1 loop each)\n"
     ]
    }
   ],
   "source": [
    "%timeit per_ch_sz(144)"
   ]
  },
  {
   "cell_type": "code",
   "execution_count": 48,
   "metadata": {
    "autoscroll": false,
    "collapsed": false,
    "ein.tags": "worksheet-0",
    "slideshow": {
     "slide_type": "-"
    }
   },
   "outputs": [
    {
     "name": "stdout",
     "output_type": "stream",
     "text": [
      "peak memory: 9647.99 MiB, increment: 5417.47 MiB\n"
     ]
    }
   ],
   "source": [
    "%memit per_ch_sz(180)"
   ]
  },
  {
   "cell_type": "code",
   "execution_count": 49,
   "metadata": {
    "autoscroll": false,
    "collapsed": false,
    "ein.tags": "worksheet-0",
    "slideshow": {
     "slide_type": "-"
    }
   },
   "outputs": [
    {
     "name": "stdout",
     "output_type": "stream",
     "text": [
      "21.1 s ± 50.8 ms per loop (mean ± std. dev. of 7 runs, 1 loop each)\n"
     ]
    }
   ],
   "source": [
    "%timeit per_ch_sz(180) # Not much difference"
   ]
  },
  {
   "cell_type": "code",
   "execution_count": 50,
   "metadata": {
    "autoscroll": false,
    "collapsed": false,
    "ein.tags": "worksheet-0",
    "slideshow": {
     "slide_type": "-"
    }
   },
   "outputs": [
    {
     "name": "stdout",
     "output_type": "stream",
     "text": [
      "peak memory: 13860.95 MiB, increment: 9630.13 MiB\n"
     ]
    }
   ],
   "source": [
    "%memit per_ch_sz(240)"
   ]
  },
  {
   "cell_type": "code",
   "execution_count": null,
   "metadata": {
    "autoscroll": false,
    "collapsed": false,
    "ein.tags": "worksheet-0",
    "slideshow": {
     "slide_type": "-"
    }
   },
   "outputs": [],
   "source": [
    "%timeit per_ch_sz(240)"
   ]
  },
  {
   "cell_type": "code",
   "execution_count": null,
   "metadata": {
    "autoscroll": false,
    "collapsed": false,
    "ein.tags": "worksheet-0",
    "slideshow": {
     "slide_type": "-"
    }
   },
   "outputs": [],
   "source": [
    "result = per_ch_sz(144)\n",
    "result"
   ]
  },
  {
   "cell_type": "code",
   "execution_count": null,
   "metadata": {
    "autoscroll": false,
    "collapsed": false,
    "ein.tags": "worksheet-0",
    "scrolled": true,
    "slideshow": {
     "slide_type": "-"
    }
   },
   "outputs": [],
   "source": [
    "def get_stacks(a, chunksize):\n",
    "    time, lat, lon = a.shape\n",
    "    nstacks_lat = int(np.ceil(lat / chunksize))\n",
    "    nstacks_lon = int(np.ceil(lon / chunksize))\n",
    "    \n",
    "    stacks = []\n",
    "    \n",
    "    for i in range(nstacks_lat):\n",
    "        for j in range(nstacks_lon):\n",
    "            latmin, latmax = i * chunksize, (i+1) * chunksize\n",
    "            lonmin, lonmax = j * chunksize, (j+1) * chunksize\n",
    "            print(i, j, '~>', latmin, latmax, lonmin, lonmax)\n",
    "            stacked = a[:, latmin:latmax, lonmin:lonmax]\n",
    "            print(stacked)\n",
    "            stacks.append(stacked)\n",
    "    return stacks\n",
    "stacks = get_stacks(stack, 144)\n",
    "res = list(map(lambda x: np.percentile(x, 99, axis=0), stacks))\n",
    "res"
   ]
  },
  {
   "cell_type": "code",
   "execution_count": null,
   "metadata": {
    "autoscroll": false,
    "collapsed": false,
    "ein.tags": "worksheet-0",
    "slideshow": {
     "slide_type": "-"
    }
   },
   "outputs": [],
   "source": [
    "int(np.sqrt(len(res) / 2))"
   ]
  },
  {
   "cell_type": "code",
   "execution_count": null,
   "metadata": {
    "autoscroll": false,
    "collapsed": false,
    "ein.tags": "worksheet-0",
    "slideshow": {
     "slide_type": "-"
    }
   },
   "outputs": [],
   "source": [
    "slices = [res[i:i + 5] for i in range(1, 50, 5) ]\n",
    "stacked_lons= list(map(np.hstack, slices))\n",
    "print(list(map(np.shape, stacked_lons)))\n",
    "stacked_lats = np.vstack(stacked_lons[0:9])\n",
    "stacked_lats.shape"
   ]
  },
  {
   "cell_type": "code",
   "execution_count": null,
   "metadata": {
    "autoscroll": false,
    "collapsed": false,
    "ein.tags": "worksheet-0",
    "slideshow": {
     "slide_type": "-"
    }
   },
   "outputs": [],
   "source": [
    "np.amax(stacked_lats)"
   ]
  },
  {
   "cell_type": "code",
   "execution_count": null,
   "metadata": {
    "autoscroll": false,
    "collapsed": false,
    "ein.tags": "worksheet-0",
    "slideshow": {
     "slide_type": "-"
    }
   },
   "outputs": [],
   "source": []
  }
 ],
 "metadata": {
  "kernelspec": {
   "display_name": "Python 3",
   "name": "python3"
  },
  "language_info": {
   "codemirror_mode": {
    "name": "ipython",
    "version": 3
   },
   "file_extension": ".py",
   "mimetype": "text/x-python",
   "name": "python",
   "nbconvert_exporter": "python",
   "pygments_lexer": "ipython3",
   "version": "3.6.3"
  },
  "name": "dask.ipynb"
 },
 "nbformat": 4,
 "nbformat_minor": 2
}
