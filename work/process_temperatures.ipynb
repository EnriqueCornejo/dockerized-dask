{
 "cells": [
  {
   "cell_type": "code",
   "execution_count": 1,
   "metadata": {
    "autoscroll": false,
    "collapsed": false,
    "ein.tags": "worksheet-0",
    "slideshow": {
     "slide_type": "-"
    }
   },
   "outputs": [],
   "source": [
    "%matplotlib inline\n",
    "\n",
    "import xarray as xr\n",
    "import datetime\n",
    "import os\n",
    "import matplotlib.pyplot as plt\n",
    "from dask.dot import dot_graph\n",
    "import itertools\n",
    "import logging\n",
    "import netCDF4\n",
    "import numpy as np\n",
    "import numpy.ma as ma\n",
    "import dask.array as da\n",
    "from dask import delayed\n",
    "import time\n",
    "from dask.distributed import Client\n",
    "from urllib import request\n",
    "from multiprocessing import Pool\n",
    "import glob\n",
    "\n",
    "client = Client('scheduler:8786')\n",
    "\n",
    "download_location = '/temp'\n",
    "# data_url = 'http://nasanex.s3.amazonaws.com'\n",
    "data_url = 'http://172.21.0.1:8080'\n",
    "max_download_attempts = 5\n",
    "\n",
    "all_models = ['ACCESS1-0',  'BNU-ESM', 'CCSM4', 'CESM1-BGC', 'CNRM-CM5', 'CSIRO-Mk3-6-0', 'CanESM2', 'GFDL-CM3', 'GFDL-ESM2G', 'GFDL-ESM2M', 'IPSL-CM5A-LR', 'IPSL-CM5A-MR', 'MIROC-ESM-CHEM', 'MIROC-ESM', 'MIROC5', 'MPI-ESM-LR', 'MPI-ESM-MR', 'MRI-CGCM3', 'NorESM1-M', 'bcc-csm1-1', 'inmcm4']\n",
    "# all_models = ['ACCESS1-0', 'BNU-ESM'] \n",
    "all_vars = ['tasmax', 'pr']\n",
    "all_years = {\n",
    "     # 'historical': list(range(1971, 1976))\n",
    "    'historical': list(range(1971, 2001))\n",
    "}\n",
    "\n",
    "year_days = [31, 28, 31, 30, 31, 30, 31, 31, 30, 31, 30, 31]\n",
    "year_leap_days = [31, 29, 31, 30, 31, 30, 31, 31, 30, 31, 30, 31]\n",
    "\n",
    "def get_dataset_url(variable, scenario, model, year, prefix = data_url):\n",
    "    prefix_filename = '/'.join([prefix, 'NEX-GDDP', 'BCSD', scenario, 'day', 'atmos', variable, 'r1i1p1', 'v1.0'])\n",
    "    filename = '_'.join([variable, 'day', 'BCSD', scenario, 'r1i1p1', model, str(year) + '.nc'])\n",
    "    url = '/'.join([prefix_filename, filename])\n",
    "    # url = '/'.join([prefix, filename])\n",
    "    return url\n",
    "\n",
    "def get_context(year, **kwargs):\n",
    "    variables = [kwargs.get('variable')] if kwargs.get('variable') else all_vars\n",
    "    scenarios = ['historical']\n",
    "    models = [kwargs.get('model')] if kwargs.get('model') else all_models\n",
    "    outlist = []\n",
    "    combinations = list(itertools.product(variables, scenarios, models))\n",
    "    result = list(map(lambda comb: [ *comb, year ], combinations))\n",
    "    return result\n",
    "\n",
    "def get_year_ensemble(year, variable = 'tasmax'):\n",
    "    context = get_context(year, variable = variable)\n",
    "    datasets = list(map(lambda x: str(get_dataset_url(*x)), context))\n",
    "    return datasets\n",
    "\n",
    "def download_file(url):\n",
    "    print(\"url: \" + url)\n",
    "    attempts = 0\n",
    "    success = False\n",
    "    filename = \"\"\n",
    "    while attempts < max_download_attempts and not success:\n",
    "        time.sleep(2 ** attempts)\n",
    "        filename = '/'.join([download_location, str(url.split('/')[-1])])\n",
    "        print(\"Downloading file at \" + filename)\n",
    "        u = request.urlopen(url)\n",
    "        f = open(filename, 'wb')\n",
    "        f.write(u.read())\n",
    "        f.close()\n",
    "        success = True\n",
    "        break\n",
    "    return filename\n",
    "\n",
    "def download_file_list(url_list):\n",
    "    print(\"Starting download pool\")\n",
    "    pool = Pool()\n",
    "    res = pool.map(download_file, url_list)\n",
    "    print(\"Jobs sent\")\n",
    "    pool.close()\n",
    "    pool.join()\n",
    "    print(\"Downloads finished\")\n",
    "    print(res)\n",
    "    return res\n",
    "\n",
    "def download_and_stack(year, variable):\n",
    "    dsets_urls = list(map(lambda x: get_year_ensemble(x, variable = variable), [year]))[0]\n",
    "    filenames = download_file_list(dsets_urls)\n",
    "    datasets = [ netCDF4.Dataset(filename) for filename in filenames ]\n",
    "    dask_arrays = []\n",
    "    for dset in datasets:\n",
    "        dask_arrays.append(da.from_array(dset[str(variable)], chunks= (366, 144, 144)))\n",
    "    try:\n",
    "        final_stack = da.stack(dask_arrays, axis = 0)\n",
    "    except:\n",
    "        return filenames, None, None\n",
    "    return filenames, datasets, final_stack\n",
    "\n",
    "def destack(a, chunksize):\n",
    "    nmodels, tasvars, time, lat, lon = a.shape\n",
    "    nstacks_lat = int(np.ceil(lat / chunksize))\n",
    "    nstacks_lon = int(np.ceil(lon / chunksize))\n",
    "    \n",
    "    stacks = []\n",
    "    \n",
    "    for i in range(nstacks_lat):\n",
    "        for j in range(nstacks_lon):\n",
    "            latmin, latmax = i * chunksize, (i+1) * chunksize\n",
    "            lonmin, lonmax = j * chunksize, (j+1) * chunksize\n",
    "            # print(i, j, '~>', latmin, latmax, lonmin, lonmax)\n",
    "            stacked = a[:, :, :, latmin:latmax, lonmin:lonmax]\n",
    "            # print(stacked)\n",
    "            stacks.append(stacked)\n",
    "    return stacks\n",
    "\n",
    "def copy_dataset(src, output_filename):\n",
    "    dst = netCDF4.Dataset('/home/jovyan/work/' + output_filename, \"w\")\n",
    "    # copy attributes\n",
    "    for name in src.ncattrs():\n",
    "        dst.setncattr(name, src.getncattr(name))\n",
    "    # copy dimensions\n",
    "    for name, dimension in src.dimensions.items():\n",
    "        dst.createDimension(\n",
    "            name, (dimension)\n",
    "        )\n",
    "    dst.close()\n",
    "    return output_filename\n",
    "\n",
    "def restack(chunk_list, chunksize):\n",
    "    shapes = list(map(np.shape, chunk_list))\n",
    "    ndays = shapes[0][0]\n",
    "    nlons = int(1440 / chunksize)\n",
    "    nlats = int(720 / chunksize)\n",
    "    out_array = np.empty((ndays, 720, 1440))\n",
    "    combs = list(itertools.product(\n",
    "        list(range(nlats)),\n",
    "        list(range(nlons))\n",
    "    ))\n",
    "    res_list = zip(combs, chunk_list)\n",
    "    for position, arr in res_list:\n",
    "        minlon, maxlon = position[0] * chunksize, position[0] * chunksize + chunksize\n",
    "        minlat, maxlat = position[1] * chunksize, position[1] * chunksize + chunksize\n",
    "        out_array[:, minlon:maxlon, minlat:maxlat] = arr\n",
    "    return out_array\n",
    "\n",
    "def stack_from_disk(year, chunksize):\n",
    "    year_ensemble_tasmin = list(map(lambda x: x.split('/')[-1], get_year_ensemble(year, variable = 'tasmin')))\n",
    "    year_ensemble_tasmax = list(map(lambda x: x.split('/')[-1], get_year_ensemble(year, variable = 'tasmax')))\n",
    "    datasets_tasmin = [ netCDF4.Dataset('../temp/' + filename) for filename in year_ensemble_tasmin ]\n",
    "    datasets_tasmax = [ netCDF4.Dataset('../temp/' + filename) for filename in year_ensemble_tasmax ]\n",
    "    das_tasmin = list(map(lambda dset: da.from_array(dset['tasmin'], chunks = (365, chunksize, chunksize)), datasets_tasmin))\n",
    "    das_tasmax = list(map(lambda dset: da.from_array(dset['tasmax'], chunks = (365, chunksize, chunksize)), datasets_tasmax))\n",
    "    # da.stack(list(map(lambda dset: da.from_array(dset['tasmax'], chunks = (365, 144, 144)), datasets_tasmax)))\n",
    "    final_stack = da.stack([da.stack(tup) for tup in list(zip(das_tasmin, das_tasmax))])\n",
    "    return final_stack\n",
    "\n",
    "def days_to_ranges(years):\n",
    "    ranges = [year_days[:i +1] for i, n in enumerate(year_days)]\n",
    "    result = [(sum(element[:-1]), sum(element)) for element in ranges]\n",
    "    return result\n",
    "\n",
    "def stack_to_months(stack):\n",
    "    days = days_to_ranges(year_days) if stack.shape[2] == 365 else days_to_ranges(year_leap_days)\n",
    "    for period in days:\n",
    "        yield(stack[:, :, period[0]:period[1], :, :])\n",
    "\n",
    "def stack_to_models(stack):\n",
    "    for model in range(stack.shape[0]):\n",
    "        yield(stack[model, :, :, :])\n"
   ]
  },
  {
   "cell_type": "code",
   "execution_count": 2,
   "metadata": {
    "autoscroll": false,
    "collapsed": false,
    "ein.tags": "worksheet-0",
    "slideshow": {
     "slide_type": "-"
    }
   },
   "outputs": [
    {
     "data": {
      "text/plain": [
       "<Client: scheduler='tcp://172.21.0.2:8786' processes=0 cores=0>"
      ]
     },
     "execution_count": 2,
     "metadata": {},
     "output_type": "execute_result"
    }
   ],
   "source": [
    "# Ensure we have a clean client for testing\n",
    "client.restart()"
   ]
  },
  {
   "cell_type": "code",
   "execution_count": 3,
   "metadata": {
    "autoscroll": false,
    "collapsed": false,
    "ein.tags": "worksheet-0",
    "slideshow": {
     "slide_type": "-"
    }
   },
   "outputs": [
    {
     "name": "stdout",
     "output_type": "stream",
     "text": [
      "Starting processing for year 1971\n",
      "2017-11-27 21:58:04.842362\n",
      "Downloading\n"
     ]
    },
    {
     "name": "stdout",
     "output_type": "stream",
     "text": [
      "dask.array<stack, shape=(21, 2, 365, 720, 1440), dtype=float32, chunksize=(1, 1, 365, 144, 144)>\n"
     ]
    }
   ],
   "source": [
    "year = 1971\n",
    "\n",
    "print(f\"Starting processing for year {str(year)}\")\n",
    "print(datetime.datetime.now())\n",
    "print(\"Downloading\")\n",
    "\n",
    "# Stacking all data into the same dask dataset\n",
    "# Change for download from amazon\n",
    "stack_year = stack_from_disk(year, 144)\n",
    "# Geographic chunking\n",
    "print(stack_year)\n",
    "# dask.array<stack, shape=(21, 2, 365, 720, 1440), dtype=float32, chunksize=(1, 1, 365, 360, 360)>\n",
    "# tasavg = np.mean(stack_year, axis = 1)\n",
    "# Can't really calc this without flooding memory"
   ]
  },
  {
   "cell_type": "code",
   "execution_count": 4,
   "metadata": {
    "autoscroll": false,
    "collapsed": false,
    "ein.tags": "worksheet-0",
    "slideshow": {
     "slide_type": "-"
    }
   },
   "outputs": [
    {
     "name": "stdout",
     "output_type": "stream",
     "text": [
      "dask.array<getitem, shape=(21, 365, 720, 1440), dtype=float32, chunksize=(1, 365, 144, 144)>\n",
      "dask.array<getitem, shape=(21, 365, 720, 1440), dtype=float32, chunksize=(1, 365, 144, 144)>\n",
      "dask.array<truediv, shape=(21, 365, 720, 1440), dtype=float32, chunksize=(1, 365, 144, 144)>\n",
      "[dask.array<getitem, shape=(365, 720, 1440), dtype=float32, chunksize=(365, 144, 144)>, dask.array<getitem, shape=(365, 720, 1440), dtype=float32, chunksize=(365, 144, 144)>, dask.array<getitem, shape=(365, 720, 1440), dtype=float32, chunksize=(365, 144, 144)>, dask.array<getitem, shape=(365, 720, 1440), dtype=float32, chunksize=(365, 144, 144)>, dask.array<getitem, shape=(365, 720, 1440), dtype=float32, chunksize=(365, 144, 144)>, dask.array<getitem, shape=(365, 720, 1440), dtype=float32, chunksize=(365, 144, 144)>, dask.array<getitem, shape=(365, 720, 1440), dtype=float32, chunksize=(365, 144, 144)>, dask.array<getitem, shape=(365, 720, 1440), dtype=float32, chunksize=(365, 144, 144)>, dask.array<getitem, shape=(365, 720, 1440), dtype=float32, chunksize=(365, 144, 144)>, dask.array<getitem, shape=(365, 720, 1440), dtype=float32, chunksize=(365, 144, 144)>, dask.array<getitem, shape=(365, 720, 1440), dtype=float32, chunksize=(365, 144, 144)>, dask.array<getitem, shape=(365, 720, 1440), dtype=float32, chunksize=(365, 144, 144)>, dask.array<getitem, shape=(365, 720, 1440), dtype=float32, chunksize=(365, 144, 144)>, dask.array<getitem, shape=(365, 720, 1440), dtype=float32, chunksize=(365, 144, 144)>, dask.array<getitem, shape=(365, 720, 1440), dtype=float32, chunksize=(365, 144, 144)>, dask.array<getitem, shape=(365, 720, 1440), dtype=float32, chunksize=(365, 144, 144)>, dask.array<getitem, shape=(365, 720, 1440), dtype=float32, chunksize=(365, 144, 144)>, dask.array<getitem, shape=(365, 720, 1440), dtype=float32, chunksize=(365, 144, 144)>, dask.array<getitem, shape=(365, 720, 1440), dtype=float32, chunksize=(365, 144, 144)>, dask.array<getitem, shape=(365, 720, 1440), dtype=float32, chunksize=(365, 144, 144)>, dask.array<getitem, shape=(365, 720, 1440), dtype=float32, chunksize=(365, 144, 144)>]\n"
     ]
    }
   ],
   "source": [
    "# Yearly indexes:\n",
    "tasmax_stack = stack_year[:, 0, :, :, :]\n",
    "tasmin_stack = stack_year[:, 1, :, :, :]\n",
    "\n",
    "print(tasmax_stack)\n",
    "print(tasmin_stack)\n",
    "\n",
    "tasavg_stack = (tasmax_stack + tasmin_stack) / 2\n",
    "print(tasavg_stack)\n",
    "\n",
    "tasavg_per_model = list(stack_to_models(tasavg_stack))\n",
    "print(tasavg_per_model)\n"
   ]
  },
  {
   "cell_type": "code",
   "execution_count": 6,
   "metadata": {
    "autoscroll": false,
    "collapsed": false,
    "ein.tags": "worksheet-0",
    "slideshow": {
     "slide_type": "-"
    }
   },
   "outputs": [],
   "source": [
    "def hdd(a, axis):\n",
    "    a_to_baseline = 291.483 - a\n",
    "    masked = ma.masked_where(a_to_baseline <= 0, a_to_baseline)\n",
    "    intermediate_matrix = ma.filled(masked, fill_value = 0)\n",
    "    result = np.sum(intermediate_matrix, axis = 0)\n",
    "    return result\n",
    "\n",
    "def cdd(a, axis): # Revise\n",
    "    a_to_baseline = 291.483 - a\n",
    "    masked = ma.masked_where(a_to_baseline >= 0, a_to_baseline)\n",
    "    intermediate_matrix = ma.filled(masked, fill_value = 0)\n",
    "    result = np.sum(intermediate_matrix, axis = 0)\n",
    "    return result    "
   ]
  },
  {
   "cell_type": "code",
   "execution_count": 7,
   "metadata": {
    "autoscroll": false,
    "collapsed": false,
    "ein.tags": "worksheet-0",
    "slideshow": {
     "slide_type": "-"
    }
   },
   "outputs": [
    {
     "data": {
      "text/plain": [
       "[array([[ 18013.84375   ,  18017.99414062,  18022.36328125, ...,\n          18013.77734375,  18012.77148438,  18012.328125  ],\n        [ 17897.82226562,  17903.1796875 ,  17908.47460938, ...,\n          17891.37695312,  17892.80078125,  17894.88476562],\n        [ 17814.59765625,  17820.4921875 ,  17826.46679688, ...,\n          17802.78320312,  17805.76171875,  17810.06445312],\n        ..., \n        [ 16229.22851562,  16228.12890625,  16227.70019531, ...,\n          16234.22851562,  16233.00390625,  16230.90820312],\n        [ 16188.984375  ,  16188.42871094,  16188.00097656, ...,\n          16192.6640625 ,  16191.89355469,  16190.39160156],\n        [ 16142.95996094,  16142.99804688,  16142.47363281, ...,\n          16143.72753906,  16143.66503906,  16143.22363281]], dtype=float32),\n array([[ 0.,  0.,  0., ...,  0.,  0.,  0.],\n        [ 0.,  0.,  0., ...,  0.,  0.,  0.],\n        [ 0.,  0.,  0., ...,  0.,  0.,  0.],\n        ..., \n        [ 0.,  0.,  0., ...,  0.,  0.,  0.],\n        [ 0.,  0.,  0., ...,  0.,  0.,  0.],\n        [ 0.,  0.,  0., ...,  0.,  0.,  0.]], dtype=float32),\n array([[ 18179.86523438,  18184.71875   ,  18189.80078125, ...,\n          18155.95507812,  18164.3515625 ,  18173.30078125],\n        [ 18055.88085938,  18062.61914062,  18069.28515625, ...,\n          18036.04492188,  18042.5390625 ,  18049.73046875],\n        [ 17964.69335938,  17972.65429688,  17980.69140625, ...,\n          17949.953125  ,  17953.68945312,  17958.75195312],\n        ..., \n        [ 16797.32226562,  16796.9296875 ,  16797.20507812, ...,\n          16802.09765625,  16800.81640625,  16798.67773438],\n        [ 16773.44921875,  16773.46875   ,  16773.63476562, ...,\n          16776.0703125 ,  16775.6015625 ,  16774.40820312],\n        [ 16743.78320312,  16744.29296875,  16744.23046875, ...,\n          16742.67382812,  16743.27148438,  16743.48242188]], dtype=float32),\n array([[ 17618.9921875 ,  17621.453125  ,  17624.11523438, ...,\n          17617.53515625,  17617.42773438,  17617.88476562],\n        [ 17540.97851562,  17544.85742188,  17548.68359375, ...,\n          17534.26757812,  17536.08398438,  17538.56054688],\n        [ 17495.7265625 ,  17500.41210938,  17505.16015625, ...,\n          17484.81835938,  17487.671875  ,  17491.87304688],\n        ..., \n        [ 16096.45019531,  16095.66992188,  16095.58886719, ...,\n          16101.62988281,  16100.25292969,  16098.00683594],\n        [ 16068.34765625,  16067.90820312,  16067.60644531, ...,\n          16071.58300781,  16070.96777344,  16069.61328125],\n        [ 16034.47753906,  16034.42871094,  16033.80371094, ...,\n          16034.16503906,  16034.5546875 ,  16034.55761719]], dtype=float32),\n array([[ 0.,  0.,  0., ...,  0.,  0.,  0.],\n        [ 0.,  0.,  0., ...,  0.,  0.,  0.],\n        [ 0.,  0.,  0., ...,  0.,  0.,  0.],\n        ..., \n        [ 0.,  0.,  0., ...,  0.,  0.,  0.],\n        [ 0.,  0.,  0., ...,  0.,  0.,  0.],\n        [ 0.,  0.,  0., ...,  0.,  0.,  0.]], dtype=float32),\n array([[ 0.,  0.,  0., ...,  0.,  0.,  0.],\n        [ 0.,  0.,  0., ...,  0.,  0.,  0.],\n        [ 0.,  0.,  0., ...,  0.,  0.,  0.],\n        ..., \n        [ 0.,  0.,  0., ...,  0.,  0.,  0.],\n        [ 0.,  0.,  0., ...,  0.,  0.,  0.],\n        [ 0.,  0.,  0., ...,  0.,  0.,  0.]], dtype=float32),\n array([[ 0.,  0.,  0., ...,  0.,  0.,  0.],\n        [ 0.,  0.,  0., ...,  0.,  0.,  0.],\n        [ 0.,  0.,  0., ...,  0.,  0.,  0.],\n        ..., \n        [ 0.,  0.,  0., ...,  0.,  0.,  0.],\n        [ 0.,  0.,  0., ...,  0.,  0.,  0.],\n        [ 0.,  0.,  0., ...,  0.,  0.,  0.]], dtype=float32),\n array([[ 0.,  0.,  0., ...,  0.,  0.,  0.],\n        [ 0.,  0.,  0., ...,  0.,  0.,  0.],\n        [ 0.,  0.,  0., ...,  0.,  0.,  0.],\n        ..., \n        [ 0.,  0.,  0., ...,  0.,  0.,  0.],\n        [ 0.,  0.,  0., ...,  0.,  0.,  0.],\n        [ 0.,  0.,  0., ...,  0.,  0.,  0.]], dtype=float32),\n array([[     0.        ,      0.        ,      0.        , ...,\n              0.        ,      0.        ,      0.        ],\n        [     0.        ,      0.        ,      0.        , ...,\n              0.        ,      0.        ,      0.        ],\n        [ 18190.29882812,  18197.6953125 ,  18205.1484375 , ...,\n          18174.42773438,  18178.72460938,  18184.3671875 ],\n        ..., \n        [ 16048.05761719,  16047.85058594,  16048.31835938, ...,\n          16051.96289062,  16050.98535156,  16049.14941406],\n        [     0.        ,      0.        ,      0.        , ...,\n              0.        ,      0.        ,      0.        ],\n        [     0.        ,      0.        ,      0.        , ...,\n              0.        ,      0.        ,      0.        ]], dtype=float32),\n array([[     0.        ,      0.        ,      0.        , ...,\n              0.        ,      0.        ,      0.        ],\n        [     0.        ,      0.        ,      0.        , ...,\n              0.        ,      0.        ,      0.        ],\n        [ 17791.31640625,  17798.4609375 ,  17805.67578125, ...,\n          17776.140625  ,  17780.1953125 ,  17785.61523438],\n        ..., \n        [ 16387.2265625 ,  16386.52734375,  16386.515625  , ...,\n          16392.58203125,  16391.11132812,  16388.796875  ],\n        [     0.        ,      0.        ,      0.        , ...,\n              0.        ,      0.        ,      0.        ],\n        [     0.        ,      0.        ,      0.        , ...,\n              0.        ,      0.        ,      0.        ]], dtype=float32),\n array([[ 17972.3359375 ,  17976.9140625 ,  17981.7109375 , ...,\n          17967.77539062,  17968.48632812,  17969.765625  ],\n        [ 17854.29296875,  17860.16210938,  17865.98046875, ...,\n          17843.27734375,  17846.40429688,  17850.22265625],\n        [ 17769.03125   ,  17775.55273438,  17782.15429688, ...,\n          17752.5625    ,  17757.27539062,  17763.33398438],\n        ..., \n        [ 16600.00195312,  16598.18945312,  16597.046875  , ...,\n          16604.22070312,  16603.4375    ,  16601.79882812],\n        [ 16577.7890625 ,  16576.53125   ,  16575.39648438, ...,\n          16579.91210938,  16579.89257812,  16579.17382812],\n        [ 16549.81640625,  16549.140625  ,  16547.90820312, ...,\n          16548.22851562,  16549.25195312,  16549.89648438]], dtype=float32),\n array([[ 17446.171875  ,  17451.52734375,  17457.10742188, ...,\n          17444.23242188,  17443.74023438,  17443.80273438],\n        [ 17304.328125  ,  17310.91992188,  17317.44921875, ...,\n          17296.55664062,  17298.26367188,  17300.61328125],\n        [ 17195.2421875 ,  17202.4296875 ,  17209.69335938, ...,\n          17182.69335938,  17185.70117188,  17190.06054688],\n        ..., \n        [ 16527.08398438,  16525.58984375,  16524.78710938, ...,\n          16532.9140625 ,  16531.41601562,  16529.07617188],\n        [ 16482.29492188,  16481.52734375,  16480.89453125, ...,\n          16486.30273438,  16485.4296875 ,  16483.83789062],\n        [ 16431.72070312,  16431.7421875 ,  16431.20703125, ...,\n          16432.31445312,  16432.3203125 ,  16431.953125  ]], dtype=float32),\n array([[ 0.,  0.,  0., ...,  0.,  0.,  0.],\n        [ 0.,  0.,  0., ...,  0.,  0.,  0.],\n        [ 0.,  0.,  0., ...,  0.,  0.,  0.],\n        ..., \n        [ 0.,  0.,  0., ...,  0.,  0.,  0.],\n        [ 0.,  0.,  0., ...,  0.,  0.,  0.],\n        [ 0.,  0.,  0., ...,  0.,  0.,  0.]], dtype=float32),\n array([[ 0.,  0.,  0., ...,  0.,  0.,  0.],\n        [ 0.,  0.,  0., ...,  0.,  0.,  0.],\n        [ 0.,  0.,  0., ...,  0.,  0.,  0.],\n        ..., \n        [ 0.,  0.,  0., ...,  0.,  0.,  0.],\n        [ 0.,  0.,  0., ...,  0.,  0.,  0.],\n        [ 0.,  0.,  0., ...,  0.,  0.,  0.]], dtype=float32),\n array([[ 0.,  0.,  0., ...,  0.,  0.,  0.],\n        [ 0.,  0.,  0., ...,  0.,  0.,  0.],\n        [ 0.,  0.,  0., ...,  0.,  0.,  0.],\n        ..., \n        [ 0.,  0.,  0., ...,  0.,  0.,  0.],\n        [ 0.,  0.,  0., ...,  0.,  0.,  0.],\n        [ 0.,  0.,  0., ...,  0.,  0.,  0.]], dtype=float32),\n array([[ 0.,  0.,  0., ...,  0.,  0.,  0.],\n        [ 0.,  0.,  0., ...,  0.,  0.,  0.],\n        [ 0.,  0.,  0., ...,  0.,  0.,  0.],\n        ..., \n        [ 0.,  0.,  0., ...,  0.,  0.,  0.],\n        [ 0.,  0.,  0., ...,  0.,  0.,  0.],\n        [ 0.,  0.,  0., ...,  0.,  0.,  0.]], dtype=float32),\n array([[ 0.,  0.,  0., ...,  0.,  0.,  0.],\n        [ 0.,  0.,  0., ...,  0.,  0.,  0.],\n        [ 0.,  0.,  0., ...,  0.,  0.,  0.],\n        ..., \n        [ 0.,  0.,  0., ...,  0.,  0.,  0.],\n        [ 0.,  0.,  0., ...,  0.,  0.,  0.],\n        [ 0.,  0.,  0., ...,  0.,  0.,  0.]], dtype=float32),\n array([[ 0.,  0.,  0., ...,  0.,  0.,  0.],\n        [ 0.,  0.,  0., ...,  0.,  0.,  0.],\n        [ 0.,  0.,  0., ...,  0.,  0.,  0.],\n        ..., \n        [ 0.,  0.,  0., ...,  0.,  0.,  0.],\n        [ 0.,  0.,  0., ...,  0.,  0.,  0.],\n        [ 0.,  0.,  0., ...,  0.,  0.,  0.]], dtype=float32),\n array([[ 18050.109375  ,  18054.65625   ,  18059.4375    , ...,\n          18045.375     ,  18046.15039062,  18047.49804688],\n        [ 17965.06640625,  17970.84570312,  17976.5546875 , ...,\n          17954.92578125,  17957.75      ,  17961.21875   ],\n        [ 17912.81835938,  17919.16015625,  17925.5859375 , ...,\n          17898.30859375,  17902.28320312,  17907.58203125],\n        ..., \n        [ 16033.76367188,  16032.81445312,  16032.54882812, ...,\n          16039.97558594,  16038.22265625,  16035.61816406],\n        [ 16008.91113281,  16008.55566406,  16008.32714844, ...,\n          16013.1875    ,  16012.13867188,  16010.35058594],\n        [ 15978.27734375,  15978.56445312,  15978.30175781, ...,\n          15979.02636719,  15978.92285156,  15978.43261719]], dtype=float32),\n array([[ 0.,  0.,  0., ...,  0.,  0.,  0.],\n        [ 0.,  0.,  0., ...,  0.,  0.,  0.],\n        [ 0.,  0.,  0., ...,  0.,  0.,  0.],\n        ..., \n        [ 0.,  0.,  0., ...,  0.,  0.,  0.],\n        [ 0.,  0.,  0., ...,  0.,  0.,  0.],\n        [ 0.,  0.,  0., ...,  0.,  0.,  0.]], dtype=float32),\n array([[ 0.,  0.,  0., ...,  0.,  0.,  0.],\n        [ 0.,  0.,  0., ...,  0.,  0.,  0.],\n        [ 0.,  0.,  0., ...,  0.,  0.,  0.],\n        ..., \n        [ 0.,  0.,  0., ...,  0.,  0.,  0.],\n        [ 0.,  0.,  0., ...,  0.,  0.,  0.],\n        [ 0.,  0.,  0., ...,  0.,  0.,  0.]], dtype=float32)]"
      ]
     },
     "execution_count": 7,
     "metadata": {},
     "output_type": "execute_result"
    }
   ],
   "source": [
    "hdds_per_model = list(map(lambda arr: delayed(hdd)(arr, axis=0).compute(), tasavg_per_model))\n",
    "hdds_per_model\n",
    "    "
   ]
  },
  {
   "cell_type": "code",
   "execution_count": null,
   "metadata": {
    "autoscroll": false,
    "collapsed": false,
    "ein.tags": "worksheet-0",
    "slideshow": {
     "slide_type": "-"
    }
   },
   "outputs": [],
   "source": [
    "month_stacks = list(stack_to_months(stack_year))\n",
    "print(\"Processing monthly information\")\n",
    "for i, month in enumerate(month_stacks):\n",
    "    print(datetime.datetime.now())\n",
    "\n",
    "    # Processing temperatures\n",
    "\n",
    "    # Tasmin\n",
    "    tasmin_arr = month[:, 0, :, :, :]\n",
    "    print(f\"tasmin_arr.shape: {tasmin_arr.shape}\")\n",
    "    # tasmin_arr.shape: (21, 31, 720, 1440)    \n",
    "\n",
    "    # In this case this axis corresponds to days\n",
    "    base_tasmin_mean = np.mean(tasmin_arr, axis = 1)\n",
    "    # So we first compute an average across days of the month, per model\n",
    "\n",
    "    # And the mean and percentile per model\n",
    "    tasmin_avg = np.mean(base_tasmin_mean, axis = 0).compute()\n",
    "    print(tasmin_avg.shape)\n",
    "    # (720, 1440)\n",
    "\n",
    "    np.save('/temp/tasmin_avg_1971.npy', tasmin_avg)\n",
    "    \n",
    "    tasmin_p75 = np.percentile(base_tasmin_mean, 75, axis = 0)\n",
    "    print(tasmin_p75.shape)\n",
    "    # (720, 1440)\n",
    "\n",
    "    tasmin_p25 = np.percentile(base_tasmin_mean, 25, axis = 0)\n",
    "    print(tasmin_p25.shape)\n",
    "    # (720, 1440)\n",
    "\n",
    "    np.save('/temp/tasmin_p75_1971.npy', tasmin_p75)\n",
    "    np.save('/temp/tasmin_p25_1971.npy', tasmin_p25)\n",
    "\n",
    "    # Tasmax\n",
    "    # tasmax_arr = month[:, 1, :, :, :]\n",
    "    # print(f\"tasmax_arr.shape: {tasmax_arr.shape}\")\n",
    "\n",
    "    # base_tasmax_mean = np.mean(tasmax_arr, axis = 1)\n",
    "    # tasmax_avg = np.mean(base_tasmax_mean, axis = 0).compute()\n",
    "    # print(tasmax_avg.shape)\n",
    "    # tasmax_p75 = np.percentile(base_tasmax_mean, 75, axis = 0)\n",
    "    # print(tasmax_avg.shape)\n",
    "    # tasmax_p25 = np.percentile(base_tasmax_mean, 25, axis = 0)\n",
    "    # print(tasmax_avg.shape)\n",
    "\n",
    "    # tasavg_arr = (tasmin_arr + tasmax_arr) / 2\n",
    "    # print(tasavg_arr)\n",
    "    # base_tasavg_mean = np.mean(tasavg_arr, axis = 0)\n",
    "    # print(base_tasavg_mean)\n",
    "    # tasavg_avg = np.mean(base_tasavg_mean, axis = 0).compute()\n",
    "    # print(tasavg_avg.shape)\n",
    "    # tasavg_p75 = np.percentile(base_tasavg_mean, 75, axis = 0)\n",
    "    # print(tasavg_p75.shape)\n",
    "    # tasavg_p25 = np.percentile(base_tasavg_mean, 25, axis = 0)\n",
    "    # print(tasavg_p25.shape)"
   ]
  }
 ],
 "metadata": {
  "kernelspec": {
   "display_name": "Python 3",
   "name": "python3"
  },
  "language_info": {
   "codemirror_mode": {
    "name": "ipython",
    "version": 3
   },
   "file_extension": ".py",
   "mimetype": "text/x-python",
   "name": "python",
   "nbconvert_exporter": "python",
   "pygments_lexer": "ipython3",
   "version": "3.6.3"
  },
  "name": "process_temperatures.ipynb"
 },
 "nbformat": 4,
 "nbformat_minor": 2
}
